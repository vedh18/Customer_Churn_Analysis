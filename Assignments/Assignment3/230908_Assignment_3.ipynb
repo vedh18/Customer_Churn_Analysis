{
  "cells": [
    {
      "cell_type": "code",
      "execution_count": 1,
      "metadata": {
        "colab": {
          "base_uri": "https://localhost:8080/",
          "height": 75
        },
        "id": "oE1DesduuuHh",
        "outputId": "87704644-a3e2-4351-c284-1845df92f737"
      },
      "outputs": [],
      "source": [
        "# from google.colab import files\n",
        "# uploaded = files.upload()"
      ]
    },
    {
      "cell_type": "code",
      "execution_count": 2,
      "metadata": {
        "colab": {
          "base_uri": "https://localhost:8080/"
        },
        "collapsed": true,
        "id": "02fgj1pdzPVQ",
        "outputId": "7253079b-5d5f-473e-88ab-5c721044963a"
      },
      "outputs": [
        {
          "name": "stdout",
          "output_type": "stream",
          "text": [
            "      RowNumber  CustomerId    Surname  CreditScore Geography  Gender  Age  \\\n",
            "0             1    15634602   Hargrave          619    France  Female   42   \n",
            "1             2    15647311       Hill          608     Spain  Female   41   \n",
            "2             3    15619304       Onio          502    France  Female   42   \n",
            "3             4    15701354       Boni          699    France  Female   39   \n",
            "4             5    15737888   Mitchell          850     Spain  Female   43   \n",
            "...         ...         ...        ...          ...       ...     ...  ...   \n",
            "9995       9996    15606229   Obijiaku          771    France    Male   39   \n",
            "9996       9997    15569892  Johnstone          516    France    Male   35   \n",
            "9997       9998    15584532        Liu          709    France  Female   36   \n",
            "9998       9999    15682355  Sabbatini          772   Germany    Male   42   \n",
            "9999      10000    15628319     Walker          792    France  Female   28   \n",
            "\n",
            "      Tenure    Balance  NumOfProducts  HasCrCard  IsActiveMember  \\\n",
            "0          2       0.00              1          1               1   \n",
            "1          1   83807.86              1          0               1   \n",
            "2          8  159660.80              3          1               0   \n",
            "3          1       0.00              2          0               0   \n",
            "4          2  125510.82              1          1               1   \n",
            "...      ...        ...            ...        ...             ...   \n",
            "9995       5       0.00              2          1               0   \n",
            "9996      10   57369.61              1          1               1   \n",
            "9997       7       0.00              1          0               1   \n",
            "9998       3   75075.31              2          1               0   \n",
            "9999       4  130142.79              1          1               0   \n",
            "\n",
            "      EstimatedSalary  Exited  Complain  Satisfaction Score Card Type  \\\n",
            "0           101348.88       1         1                   2   DIAMOND   \n",
            "1           112542.58       0         1                   3   DIAMOND   \n",
            "2           113931.57       1         1                   3   DIAMOND   \n",
            "3            93826.63       0         0                   5      GOLD   \n",
            "4            79084.10       0         0                   5      GOLD   \n",
            "...               ...     ...       ...                 ...       ...   \n",
            "9995         96270.64       0         0                   1   DIAMOND   \n",
            "9996        101699.77       0         0                   5  PLATINUM   \n",
            "9997         42085.58       1         1                   3    SILVER   \n",
            "9998         92888.52       1         1                   2      GOLD   \n",
            "9999         38190.78       0         0                   3   DIAMOND   \n",
            "\n",
            "      Point Earned  \n",
            "0              464  \n",
            "1              456  \n",
            "2              377  \n",
            "3              350  \n",
            "4              425  \n",
            "...            ...  \n",
            "9995           300  \n",
            "9996           771  \n",
            "9997           564  \n",
            "9998           339  \n",
            "9999           911  \n",
            "\n",
            "[10000 rows x 18 columns]\n"
          ]
        }
      ],
      "source": [
        "import io\n",
        "import pandas as pd\n",
        "\n",
        "df = pd.read_csv('Customer-Churn-Records.csv')\n",
        "print(df)"
      ]
    },
    {
      "cell_type": "code",
      "execution_count": 3,
      "metadata": {
        "colab": {
          "base_uri": "https://localhost:8080/"
        },
        "id": "54vqzWtkumTX",
        "outputId": "cdad44e3-58cd-4a05-92df-dd33023a76ab"
      },
      "outputs": [],
      "source": [
        "import seaborn as sbs\n",
        "import matplotlib.pyplot as plt\n",
        "import numpy as np\n",
        "\n",
        "from ydata_profiling import ProfileReport\n",
        "\n",
        "from sklearn.model_selection import train_test_split\n",
        "\n",
        "from sklearn.preprocessing import OrdinalEncoder\n",
        "from sklearn.preprocessing import OneHotEncoder\n",
        "from sklearn.compose import ColumnTransformer\n",
        "from sklearn.pipeline import Pipeline\n",
        "from sklearn.ensemble import RandomForestClassifier\n",
        "\n",
        "from sklearn.preprocessing import PowerTransformer\n",
        "from sklearn.preprocessing import MinMaxScaler\n",
        "\n",
        "from sklearn.metrics import accuracy_score,confusion_matrix,f1_score,precision_score,classification_report,mean_squared_error\n",
        "\n",
        "import shap"
      ]
    },
    {
      "cell_type": "code",
      "execution_count": 4,
      "metadata": {
        "colab": {
          "base_uri": "https://localhost:8080/",
          "height": 380
        },
        "id": "BQDoRCocumTa",
        "outputId": "6c5fbe35-9566-42c7-928b-4887fbbcb558"
      },
      "outputs": [
        {
          "data": {
            "text/html": [
              "<div>\n",
              "<style scoped>\n",
              "    .dataframe tbody tr th:only-of-type {\n",
              "        vertical-align: middle;\n",
              "    }\n",
              "\n",
              "    .dataframe tbody tr th {\n",
              "        vertical-align: top;\n",
              "    }\n",
              "\n",
              "    .dataframe thead th {\n",
              "        text-align: right;\n",
              "    }\n",
              "</style>\n",
              "<table border=\"1\" class=\"dataframe\">\n",
              "  <thead>\n",
              "    <tr style=\"text-align: right;\">\n",
              "      <th></th>\n",
              "      <th>RowNumber</th>\n",
              "      <th>CustomerId</th>\n",
              "      <th>Surname</th>\n",
              "      <th>CreditScore</th>\n",
              "      <th>Geography</th>\n",
              "      <th>Gender</th>\n",
              "      <th>Age</th>\n",
              "      <th>Tenure</th>\n",
              "      <th>Balance</th>\n",
              "      <th>NumOfProducts</th>\n",
              "      <th>HasCrCard</th>\n",
              "      <th>IsActiveMember</th>\n",
              "      <th>EstimatedSalary</th>\n",
              "      <th>Exited</th>\n",
              "      <th>Complain</th>\n",
              "      <th>Satisfaction Score</th>\n",
              "      <th>Card Type</th>\n",
              "      <th>Point Earned</th>\n",
              "    </tr>\n",
              "  </thead>\n",
              "  <tbody>\n",
              "    <tr>\n",
              "      <th>7957</th>\n",
              "      <td>7958</td>\n",
              "      <td>15582149</td>\n",
              "      <td>Ts'ui</td>\n",
              "      <td>850</td>\n",
              "      <td>Germany</td>\n",
              "      <td>Female</td>\n",
              "      <td>34</td>\n",
              "      <td>3</td>\n",
              "      <td>129668.43</td>\n",
              "      <td>2</td>\n",
              "      <td>1</td>\n",
              "      <td>1</td>\n",
              "      <td>88743.99</td>\n",
              "      <td>0</td>\n",
              "      <td>0</td>\n",
              "      <td>5</td>\n",
              "      <td>SILVER</td>\n",
              "      <td>468</td>\n",
              "    </tr>\n",
              "    <tr>\n",
              "      <th>291</th>\n",
              "      <td>292</td>\n",
              "      <td>15607098</td>\n",
              "      <td>Ahmed</td>\n",
              "      <td>747</td>\n",
              "      <td>Spain</td>\n",
              "      <td>Female</td>\n",
              "      <td>41</td>\n",
              "      <td>5</td>\n",
              "      <td>94521.17</td>\n",
              "      <td>2</td>\n",
              "      <td>1</td>\n",
              "      <td>0</td>\n",
              "      <td>194926.86</td>\n",
              "      <td>0</td>\n",
              "      <td>0</td>\n",
              "      <td>1</td>\n",
              "      <td>DIAMOND</td>\n",
              "      <td>806</td>\n",
              "    </tr>\n",
              "    <tr>\n",
              "      <th>9453</th>\n",
              "      <td>9454</td>\n",
              "      <td>15769402</td>\n",
              "      <td>Carpenter</td>\n",
              "      <td>667</td>\n",
              "      <td>France</td>\n",
              "      <td>Male</td>\n",
              "      <td>27</td>\n",
              "      <td>7</td>\n",
              "      <td>156811.74</td>\n",
              "      <td>1</td>\n",
              "      <td>1</td>\n",
              "      <td>1</td>\n",
              "      <td>149402.59</td>\n",
              "      <td>0</td>\n",
              "      <td>0</td>\n",
              "      <td>4</td>\n",
              "      <td>PLATINUM</td>\n",
              "      <td>277</td>\n",
              "    </tr>\n",
              "    <tr>\n",
              "      <th>2767</th>\n",
              "      <td>2768</td>\n",
              "      <td>15747265</td>\n",
              "      <td>Huang</td>\n",
              "      <td>598</td>\n",
              "      <td>Germany</td>\n",
              "      <td>Female</td>\n",
              "      <td>27</td>\n",
              "      <td>10</td>\n",
              "      <td>171283.91</td>\n",
              "      <td>1</td>\n",
              "      <td>1</td>\n",
              "      <td>1</td>\n",
              "      <td>84136.12</td>\n",
              "      <td>0</td>\n",
              "      <td>0</td>\n",
              "      <td>5</td>\n",
              "      <td>GOLD</td>\n",
              "      <td>508</td>\n",
              "    </tr>\n",
              "    <tr>\n",
              "      <th>438</th>\n",
              "      <td>439</td>\n",
              "      <td>15783501</td>\n",
              "      <td>Findlay</td>\n",
              "      <td>800</td>\n",
              "      <td>France</td>\n",
              "      <td>Female</td>\n",
              "      <td>38</td>\n",
              "      <td>2</td>\n",
              "      <td>168190.33</td>\n",
              "      <td>2</td>\n",
              "      <td>1</td>\n",
              "      <td>0</td>\n",
              "      <td>68052.08</td>\n",
              "      <td>0</td>\n",
              "      <td>0</td>\n",
              "      <td>3</td>\n",
              "      <td>SILVER</td>\n",
              "      <td>874</td>\n",
              "    </tr>\n",
              "    <tr>\n",
              "      <th>1646</th>\n",
              "      <td>1647</td>\n",
              "      <td>15651533</td>\n",
              "      <td>Brown</td>\n",
              "      <td>570</td>\n",
              "      <td>Germany</td>\n",
              "      <td>Female</td>\n",
              "      <td>50</td>\n",
              "      <td>5</td>\n",
              "      <td>129293.74</td>\n",
              "      <td>1</td>\n",
              "      <td>1</td>\n",
              "      <td>0</td>\n",
              "      <td>177805.44</td>\n",
              "      <td>1</td>\n",
              "      <td>1</td>\n",
              "      <td>4</td>\n",
              "      <td>DIAMOND</td>\n",
              "      <td>988</td>\n",
              "    </tr>\n",
              "    <tr>\n",
              "      <th>7558</th>\n",
              "      <td>7559</td>\n",
              "      <td>15642098</td>\n",
              "      <td>Cox</td>\n",
              "      <td>622</td>\n",
              "      <td>Spain</td>\n",
              "      <td>Female</td>\n",
              "      <td>36</td>\n",
              "      <td>0</td>\n",
              "      <td>108960.00</td>\n",
              "      <td>2</td>\n",
              "      <td>1</td>\n",
              "      <td>0</td>\n",
              "      <td>111180.30</td>\n",
              "      <td>1</td>\n",
              "      <td>1</td>\n",
              "      <td>1</td>\n",
              "      <td>PLATINUM</td>\n",
              "      <td>532</td>\n",
              "    </tr>\n",
              "    <tr>\n",
              "      <th>3305</th>\n",
              "      <td>3306</td>\n",
              "      <td>15574072</td>\n",
              "      <td>Ch'ien</td>\n",
              "      <td>786</td>\n",
              "      <td>France</td>\n",
              "      <td>Female</td>\n",
              "      <td>62</td>\n",
              "      <td>8</td>\n",
              "      <td>0.00</td>\n",
              "      <td>1</td>\n",
              "      <td>1</td>\n",
              "      <td>1</td>\n",
              "      <td>165702.64</td>\n",
              "      <td>0</td>\n",
              "      <td>0</td>\n",
              "      <td>2</td>\n",
              "      <td>SILVER</td>\n",
              "      <td>765</td>\n",
              "    </tr>\n",
              "    <tr>\n",
              "      <th>3628</th>\n",
              "      <td>3629</td>\n",
              "      <td>15573319</td>\n",
              "      <td>Azubuike</td>\n",
              "      <td>493</td>\n",
              "      <td>Germany</td>\n",
              "      <td>Female</td>\n",
              "      <td>35</td>\n",
              "      <td>8</td>\n",
              "      <td>178317.60</td>\n",
              "      <td>1</td>\n",
              "      <td>0</td>\n",
              "      <td>0</td>\n",
              "      <td>197428.64</td>\n",
              "      <td>0</td>\n",
              "      <td>0</td>\n",
              "      <td>1</td>\n",
              "      <td>SILVER</td>\n",
              "      <td>738</td>\n",
              "    </tr>\n",
              "    <tr>\n",
              "      <th>7758</th>\n",
              "      <td>7759</td>\n",
              "      <td>15684358</td>\n",
              "      <td>Kang</td>\n",
              "      <td>711</td>\n",
              "      <td>France</td>\n",
              "      <td>Male</td>\n",
              "      <td>41</td>\n",
              "      <td>3</td>\n",
              "      <td>0.00</td>\n",
              "      <td>2</td>\n",
              "      <td>1</td>\n",
              "      <td>1</td>\n",
              "      <td>193747.57</td>\n",
              "      <td>0</td>\n",
              "      <td>0</td>\n",
              "      <td>4</td>\n",
              "      <td>GOLD</td>\n",
              "      <td>876</td>\n",
              "    </tr>\n",
              "  </tbody>\n",
              "</table>\n",
              "</div>"
            ],
            "text/plain": [
              "      RowNumber  CustomerId    Surname  CreditScore Geography  Gender  Age  \\\n",
              "7957       7958    15582149      Ts'ui          850   Germany  Female   34   \n",
              "291         292    15607098      Ahmed          747     Spain  Female   41   \n",
              "9453       9454    15769402  Carpenter          667    France    Male   27   \n",
              "2767       2768    15747265      Huang          598   Germany  Female   27   \n",
              "438         439    15783501    Findlay          800    France  Female   38   \n",
              "1646       1647    15651533      Brown          570   Germany  Female   50   \n",
              "7558       7559    15642098        Cox          622     Spain  Female   36   \n",
              "3305       3306    15574072     Ch'ien          786    France  Female   62   \n",
              "3628       3629    15573319   Azubuike          493   Germany  Female   35   \n",
              "7758       7759    15684358       Kang          711    France    Male   41   \n",
              "\n",
              "      Tenure    Balance  NumOfProducts  HasCrCard  IsActiveMember  \\\n",
              "7957       3  129668.43              2          1               1   \n",
              "291        5   94521.17              2          1               0   \n",
              "9453       7  156811.74              1          1               1   \n",
              "2767      10  171283.91              1          1               1   \n",
              "438        2  168190.33              2          1               0   \n",
              "1646       5  129293.74              1          1               0   \n",
              "7558       0  108960.00              2          1               0   \n",
              "3305       8       0.00              1          1               1   \n",
              "3628       8  178317.60              1          0               0   \n",
              "7758       3       0.00              2          1               1   \n",
              "\n",
              "      EstimatedSalary  Exited  Complain  Satisfaction Score Card Type  \\\n",
              "7957         88743.99       0         0                   5    SILVER   \n",
              "291         194926.86       0         0                   1   DIAMOND   \n",
              "9453        149402.59       0         0                   4  PLATINUM   \n",
              "2767         84136.12       0         0                   5      GOLD   \n",
              "438          68052.08       0         0                   3    SILVER   \n",
              "1646        177805.44       1         1                   4   DIAMOND   \n",
              "7558        111180.30       1         1                   1  PLATINUM   \n",
              "3305        165702.64       0         0                   2    SILVER   \n",
              "3628        197428.64       0         0                   1    SILVER   \n",
              "7758        193747.57       0         0                   4      GOLD   \n",
              "\n",
              "      Point Earned  \n",
              "7957           468  \n",
              "291            806  \n",
              "9453           277  \n",
              "2767           508  \n",
              "438            874  \n",
              "1646           988  \n",
              "7558           532  \n",
              "3305           765  \n",
              "3628           738  \n",
              "7758           876  "
            ]
          },
          "execution_count": 4,
          "metadata": {},
          "output_type": "execute_result"
        }
      ],
      "source": [
        "df.sample(10)"
      ]
    },
    {
      "cell_type": "code",
      "execution_count": 5,
      "metadata": {
        "id": "wrTFOMVoumTb"
      },
      "outputs": [],
      "source": [
        "df.drop(axis=1,columns=['RowNumber','CustomerId','Surname'],inplace=True)"
      ]
    },
    {
      "cell_type": "code",
      "execution_count": 6,
      "metadata": {
        "colab": {
          "base_uri": "https://localhost:8080/",
          "height": 206
        },
        "id": "-BILLmoiumTb",
        "outputId": "ccbd9991-4b9b-4a1a-b770-328eeb60592a"
      },
      "outputs": [
        {
          "data": {
            "text/html": [
              "<div>\n",
              "<style scoped>\n",
              "    .dataframe tbody tr th:only-of-type {\n",
              "        vertical-align: middle;\n",
              "    }\n",
              "\n",
              "    .dataframe tbody tr th {\n",
              "        vertical-align: top;\n",
              "    }\n",
              "\n",
              "    .dataframe thead th {\n",
              "        text-align: right;\n",
              "    }\n",
              "</style>\n",
              "<table border=\"1\" class=\"dataframe\">\n",
              "  <thead>\n",
              "    <tr style=\"text-align: right;\">\n",
              "      <th></th>\n",
              "      <th>CreditScore</th>\n",
              "      <th>Geography</th>\n",
              "      <th>Gender</th>\n",
              "      <th>Age</th>\n",
              "      <th>Tenure</th>\n",
              "      <th>Balance</th>\n",
              "      <th>NumOfProducts</th>\n",
              "      <th>HasCrCard</th>\n",
              "      <th>IsActiveMember</th>\n",
              "      <th>EstimatedSalary</th>\n",
              "      <th>Exited</th>\n",
              "      <th>Complain</th>\n",
              "      <th>Satisfaction Score</th>\n",
              "      <th>Card Type</th>\n",
              "      <th>Point Earned</th>\n",
              "    </tr>\n",
              "  </thead>\n",
              "  <tbody>\n",
              "    <tr>\n",
              "      <th>0</th>\n",
              "      <td>619</td>\n",
              "      <td>France</td>\n",
              "      <td>Female</td>\n",
              "      <td>42</td>\n",
              "      <td>2</td>\n",
              "      <td>0.00</td>\n",
              "      <td>1</td>\n",
              "      <td>1</td>\n",
              "      <td>1</td>\n",
              "      <td>101348.88</td>\n",
              "      <td>1</td>\n",
              "      <td>1</td>\n",
              "      <td>2</td>\n",
              "      <td>DIAMOND</td>\n",
              "      <td>464</td>\n",
              "    </tr>\n",
              "    <tr>\n",
              "      <th>1</th>\n",
              "      <td>608</td>\n",
              "      <td>Spain</td>\n",
              "      <td>Female</td>\n",
              "      <td>41</td>\n",
              "      <td>1</td>\n",
              "      <td>83807.86</td>\n",
              "      <td>1</td>\n",
              "      <td>0</td>\n",
              "      <td>1</td>\n",
              "      <td>112542.58</td>\n",
              "      <td>0</td>\n",
              "      <td>1</td>\n",
              "      <td>3</td>\n",
              "      <td>DIAMOND</td>\n",
              "      <td>456</td>\n",
              "    </tr>\n",
              "    <tr>\n",
              "      <th>2</th>\n",
              "      <td>502</td>\n",
              "      <td>France</td>\n",
              "      <td>Female</td>\n",
              "      <td>42</td>\n",
              "      <td>8</td>\n",
              "      <td>159660.80</td>\n",
              "      <td>3</td>\n",
              "      <td>1</td>\n",
              "      <td>0</td>\n",
              "      <td>113931.57</td>\n",
              "      <td>1</td>\n",
              "      <td>1</td>\n",
              "      <td>3</td>\n",
              "      <td>DIAMOND</td>\n",
              "      <td>377</td>\n",
              "    </tr>\n",
              "    <tr>\n",
              "      <th>3</th>\n",
              "      <td>699</td>\n",
              "      <td>France</td>\n",
              "      <td>Female</td>\n",
              "      <td>39</td>\n",
              "      <td>1</td>\n",
              "      <td>0.00</td>\n",
              "      <td>2</td>\n",
              "      <td>0</td>\n",
              "      <td>0</td>\n",
              "      <td>93826.63</td>\n",
              "      <td>0</td>\n",
              "      <td>0</td>\n",
              "      <td>5</td>\n",
              "      <td>GOLD</td>\n",
              "      <td>350</td>\n",
              "    </tr>\n",
              "    <tr>\n",
              "      <th>4</th>\n",
              "      <td>850</td>\n",
              "      <td>Spain</td>\n",
              "      <td>Female</td>\n",
              "      <td>43</td>\n",
              "      <td>2</td>\n",
              "      <td>125510.82</td>\n",
              "      <td>1</td>\n",
              "      <td>1</td>\n",
              "      <td>1</td>\n",
              "      <td>79084.10</td>\n",
              "      <td>0</td>\n",
              "      <td>0</td>\n",
              "      <td>5</td>\n",
              "      <td>GOLD</td>\n",
              "      <td>425</td>\n",
              "    </tr>\n",
              "  </tbody>\n",
              "</table>\n",
              "</div>"
            ],
            "text/plain": [
              "   CreditScore Geography  Gender  Age  Tenure    Balance  NumOfProducts  \\\n",
              "0          619    France  Female   42       2       0.00              1   \n",
              "1          608     Spain  Female   41       1   83807.86              1   \n",
              "2          502    France  Female   42       8  159660.80              3   \n",
              "3          699    France  Female   39       1       0.00              2   \n",
              "4          850     Spain  Female   43       2  125510.82              1   \n",
              "\n",
              "   HasCrCard  IsActiveMember  EstimatedSalary  Exited  Complain  \\\n",
              "0          1               1        101348.88       1         1   \n",
              "1          0               1        112542.58       0         1   \n",
              "2          1               0        113931.57       1         1   \n",
              "3          0               0         93826.63       0         0   \n",
              "4          1               1         79084.10       0         0   \n",
              "\n",
              "   Satisfaction Score Card Type  Point Earned  \n",
              "0                   2   DIAMOND           464  \n",
              "1                   3   DIAMOND           456  \n",
              "2                   3   DIAMOND           377  \n",
              "3                   5      GOLD           350  \n",
              "4                   5      GOLD           425  "
            ]
          },
          "execution_count": 6,
          "metadata": {},
          "output_type": "execute_result"
        }
      ],
      "source": [
        "df.head(5)"
      ]
    },
    {
      "cell_type": "code",
      "execution_count": 7,
      "metadata": {
        "id": "oKIoiV0fumTc"
      },
      "outputs": [],
      "source": [
        "# ProfileReport(df)"
      ]
    },
    {
      "cell_type": "code",
      "execution_count": 8,
      "metadata": {
        "id": "BKhZzw7JumTc"
      },
      "outputs": [],
      "source": [
        "cat_col=['Geography','Gender','Card Type']"
      ]
    },
    {
      "cell_type": "code",
      "execution_count": 9,
      "metadata": {
        "colab": {
          "base_uri": "https://localhost:8080/"
        },
        "id": "hTRRfp8WumTc",
        "outputId": "9b52ab62-b8d5-42ac-caf9-4d02c66a3a1a"
      },
      "outputs": [
        {
          "data": {
            "text/plain": [
              "CreditScore          -0.026771\n",
              "Age                   0.285296\n",
              "Tenure               -0.013656\n",
              "Balance               0.118577\n",
              "NumOfProducts        -0.047611\n",
              "HasCrCard            -0.006976\n",
              "IsActiveMember       -0.156356\n",
              "EstimatedSalary       0.012490\n",
              "Exited                1.000000\n",
              "Complain              0.995693\n",
              "Satisfaction Score   -0.005849\n",
              "Point Earned         -0.004628\n",
              "dtype: float64"
            ]
          },
          "execution_count": 9,
          "metadata": {},
          "output_type": "execute_result"
        }
      ],
      "source": [
        "df.drop(axis=1,columns=cat_col).corrwith(other=df['Exited'])"
      ]
    },
    {
      "cell_type": "code",
      "execution_count": 10,
      "metadata": {
        "colab": {
          "base_uri": "https://localhost:8080/"
        },
        "id": "kTV4rryoumTd",
        "outputId": "fc7c229c-fed2-4347-bb82-446e05a82165"
      },
      "outputs": [
        {
          "data": {
            "text/plain": [
              "CreditScore          -0.071607\n",
              "Age                   1.011320\n",
              "Tenure                0.010991\n",
              "Balance              -0.141109\n",
              "NumOfProducts         0.745568\n",
              "HasCrCard            -0.901812\n",
              "IsActiveMember       -0.060437\n",
              "EstimatedSalary       0.002085\n",
              "Exited                1.470845\n",
              "Complain              1.466263\n",
              "Satisfaction Score   -0.008936\n",
              "Point Earned          0.008344\n",
              "dtype: float64"
            ]
          },
          "execution_count": 10,
          "metadata": {},
          "output_type": "execute_result"
        }
      ],
      "source": [
        "df.drop(axis=1,columns=cat_col).skew()"
      ]
    },
    {
      "cell_type": "code",
      "execution_count": 11,
      "metadata": {
        "id": "L9nkkKyXumTe"
      },
      "outputs": [],
      "source": [
        "\n",
        "X_train,X_test,y_train,y_test=train_test_split(df.drop('Exited',axis=1),df['Exited'],test_size=0.2,random_state=5)"
      ]
    },
    {
      "cell_type": "code",
      "execution_count": 12,
      "metadata": {
        "id": "Tkd-tpc-umTe"
      },
      "outputs": [],
      "source": [
        "X_train_cat=X_train[cat_col]\n",
        "X_test_cat=X_test[cat_col]"
      ]
    },
    {
      "cell_type": "code",
      "execution_count": 13,
      "metadata": {
        "id": "wDmx66aNumTe"
      },
      "outputs": [],
      "source": [
        "X_train_num=X_train.drop(axis=1,columns=cat_col)\n",
        "X_test_num=X_test.drop(axis=1,columns=cat_col)"
      ]
    },
    {
      "cell_type": "code",
      "execution_count": 14,
      "metadata": {
        "colab": {
          "base_uri": "https://localhost:8080/",
          "height": 424
        },
        "id": "PRu8vuiJumTe",
        "outputId": "956d95bc-a147-4577-fdc0-90aeab40f260"
      },
      "outputs": [
        {
          "data": {
            "text/html": [
              "<div>\n",
              "<style scoped>\n",
              "    .dataframe tbody tr th:only-of-type {\n",
              "        vertical-align: middle;\n",
              "    }\n",
              "\n",
              "    .dataframe tbody tr th {\n",
              "        vertical-align: top;\n",
              "    }\n",
              "\n",
              "    .dataframe thead th {\n",
              "        text-align: right;\n",
              "    }\n",
              "</style>\n",
              "<table border=\"1\" class=\"dataframe\">\n",
              "  <thead>\n",
              "    <tr style=\"text-align: right;\">\n",
              "      <th></th>\n",
              "      <th>Geography</th>\n",
              "      <th>Gender</th>\n",
              "      <th>Card Type</th>\n",
              "    </tr>\n",
              "  </thead>\n",
              "  <tbody>\n",
              "    <tr>\n",
              "      <th>7751</th>\n",
              "      <td>Spain</td>\n",
              "      <td>Female</td>\n",
              "      <td>PLATINUM</td>\n",
              "    </tr>\n",
              "    <tr>\n",
              "      <th>4154</th>\n",
              "      <td>France</td>\n",
              "      <td>Male</td>\n",
              "      <td>PLATINUM</td>\n",
              "    </tr>\n",
              "    <tr>\n",
              "      <th>3881</th>\n",
              "      <td>France</td>\n",
              "      <td>Female</td>\n",
              "      <td>SILVER</td>\n",
              "    </tr>\n",
              "    <tr>\n",
              "      <th>9238</th>\n",
              "      <td>France</td>\n",
              "      <td>Female</td>\n",
              "      <td>GOLD</td>\n",
              "    </tr>\n",
              "    <tr>\n",
              "      <th>5210</th>\n",
              "      <td>France</td>\n",
              "      <td>Male</td>\n",
              "      <td>DIAMOND</td>\n",
              "    </tr>\n",
              "    <tr>\n",
              "      <th>...</th>\n",
              "      <td>...</td>\n",
              "      <td>...</td>\n",
              "      <td>...</td>\n",
              "    </tr>\n",
              "    <tr>\n",
              "      <th>3046</th>\n",
              "      <td>Germany</td>\n",
              "      <td>Female</td>\n",
              "      <td>SILVER</td>\n",
              "    </tr>\n",
              "    <tr>\n",
              "      <th>9917</th>\n",
              "      <td>Germany</td>\n",
              "      <td>Male</td>\n",
              "      <td>SILVER</td>\n",
              "    </tr>\n",
              "    <tr>\n",
              "      <th>4079</th>\n",
              "      <td>France</td>\n",
              "      <td>Female</td>\n",
              "      <td>DIAMOND</td>\n",
              "    </tr>\n",
              "    <tr>\n",
              "      <th>2254</th>\n",
              "      <td>France</td>\n",
              "      <td>Male</td>\n",
              "      <td>PLATINUM</td>\n",
              "    </tr>\n",
              "    <tr>\n",
              "      <th>2915</th>\n",
              "      <td>Germany</td>\n",
              "      <td>Female</td>\n",
              "      <td>GOLD</td>\n",
              "    </tr>\n",
              "  </tbody>\n",
              "</table>\n",
              "<p>8000 rows × 3 columns</p>\n",
              "</div>"
            ],
            "text/plain": [
              "     Geography  Gender Card Type\n",
              "7751     Spain  Female  PLATINUM\n",
              "4154    France    Male  PLATINUM\n",
              "3881    France  Female    SILVER\n",
              "9238    France  Female      GOLD\n",
              "5210    France    Male   DIAMOND\n",
              "...        ...     ...       ...\n",
              "3046   Germany  Female    SILVER\n",
              "9917   Germany    Male    SILVER\n",
              "4079    France  Female   DIAMOND\n",
              "2254    France    Male  PLATINUM\n",
              "2915   Germany  Female      GOLD\n",
              "\n",
              "[8000 rows x 3 columns]"
            ]
          },
          "execution_count": 14,
          "metadata": {},
          "output_type": "execute_result"
        }
      ],
      "source": [
        "X_train_cat"
      ]
    },
    {
      "cell_type": "code",
      "execution_count": 15,
      "metadata": {
        "colab": {
          "base_uri": "https://localhost:8080/",
          "height": 563
        },
        "id": "CUjO4f2qumTf",
        "outputId": "02c02b07-f4d6-4f17-ff3c-4722fda01f47"
      },
      "outputs": [
        {
          "data": {
            "text/plain": [
              "<Axes: >"
            ]
          },
          "execution_count": 15,
          "metadata": {},
          "output_type": "execute_result"
        },
        {
          "data": {
            "image/png": "[encoded data removed]",
            "text/plain": [
              "<Figure size 640x480 with 2 Axes>"
            ]
          },
          "metadata": {},
          "output_type": "display_data"
        }
      ],
      "source": [
        "num_col=X_train_num.columns\n",
        "sbs.heatmap(df[num_col].corr())"
      ]
    },
    {
      "cell_type": "code",
      "execution_count": 16,
      "metadata": {
        "id": "yR17lUw6umTf"
      },
      "outputs": [],
      "source": [
        "# sbs.pairplot(df)"
      ]
    },
    {
      "cell_type": "code",
      "execution_count": 17,
      "metadata": {
        "id": "Mays6LIvumTf"
      },
      "outputs": [],
      "source": [
        "data=[['DIAMOND','PLATINUM','GOLD','SILVER']]"
      ]
    },
    {
      "cell_type": "code",
      "execution_count": 18,
      "metadata": {
        "id": "IMQmybXeumTf"
      },
      "outputs": [],
      "source": [
        "transformer=ColumnTransformer(transformers=[('Ordinal_Encoding',OrdinalEncoder(categories=data),['Card Type']),\n",
        "                                            ('One_Hot_Encoding',OneHotEncoder(drop='first'),['Gender','Geography']),\n",
        "                                            ('Yeo-JohnsonTransformer',PowerTransformer('yeo-johnson'),['Balance']),\n",
        "                                            ('MinMaxScaler',MinMaxScaler(),['NumOfProducts','Age','CreditScore','Point Earned'])],\n",
        "                                            remainder='passthrough')"
      ]
    },
    {
      "cell_type": "code",
      "execution_count": 19,
      "metadata": {
        "id": "4LRkCgksumTf"
      },
      "outputs": [],
      "source": [
        "pipeline=Pipeline(steps=[('preprocessing',transformer),('classifier',RandomForestClassifier())])"
      ]
    },
    {
      "cell_type": "code",
      "execution_count": 20,
      "metadata": {
        "colab": {
          "base_uri": "https://localhost:8080/",
          "height": 192
        },
        "id": "2zGGwElTumTf",
        "outputId": "2419eda2-0bb7-44f8-ac0b-0b8fc04242d5"
      },
      "outputs": [
        {
          "data": {
            "text/html": [
              "<style>#sk-container-id-1 {\n",
              "  /* Definition of color scheme common for light and dark mode */\n",
              "  --sklearn-color-text: black;\n",
              "  --sklearn-color-line: gray;\n",
              "  /* Definition of color scheme for unfitted estimators */\n",
              "  --sklearn-color-unfitted-level-0: #fff5e6;\n",
              "  --sklearn-color-unfitted-level-1: #f6e4d2;\n",
              "  --sklearn-color-unfitted-level-2: #ffe0b3;\n",
              "  --sklearn-color-unfitted-level-3: chocolate;\n",
              "  /* Definition of color scheme for fitted estimators */\n",
              "  --sklearn-color-fitted-level-0: #f0f8ff;\n",
              "  --sklearn-color-fitted-level-1: #d4ebff;\n",
              "  --sklearn-color-fitted-level-2: #b3dbfd;\n",
              "  --sklearn-color-fitted-level-3: cornflowerblue;\n",
              "\n",
              "  /* Specific color for light theme */\n",
              "  --sklearn-color-text-on-default-background: var(--sg-text-color, var(--theme-code-foreground, var(--jp-content-font-color1, black)));\n",
              "  --sklearn-color-background: var(--sg-background-color, var(--theme-background, var(--jp-layout-color0, white)));\n",
              "  --sklearn-color-border-box: var(--sg-text-color, var(--theme-code-foreground, var(--jp-content-font-color1, black)));\n",
              "  --sklearn-color-icon: #696969;\n",
              "\n",
              "  @media (prefers-color-scheme: dark) {\n",
              "    /* Redefinition of color scheme for dark theme */\n",
              "    --sklearn-color-text-on-default-background: var(--sg-text-color, var(--theme-code-foreground, var(--jp-content-font-color1, white)));\n",
              "    --sklearn-color-background: var(--sg-background-color, var(--theme-background, var(--jp-layout-color0, #111)));\n",
              "    --sklearn-color-border-box: var(--sg-text-color, var(--theme-code-foreground, var(--jp-content-font-color1, white)));\n",
              "    --sklearn-color-icon: #878787;\n",
              "  }\n",
              "}\n",
              "\n",
              "#sk-container-id-1 {\n",
              "  color: var(--sklearn-color-text);\n",
              "}\n",
              "\n",
              "#sk-container-id-1 pre {\n",
              "  padding: 0;\n",
              "}\n",
              "\n",
              "#sk-container-id-1 input.sk-hidden--visually {\n",
              "  border: 0;\n",
              "  clip: rect(1px 1px 1px 1px);\n",
              "  clip: rect(1px, 1px, 1px, 1px);\n",
              "  height: 1px;\n",
              "  margin: -1px;\n",
              "  overflow: hidden;\n",
              "  padding: 0;\n",
              "  position: absolute;\n",
              "  width: 1px;\n",
              "}\n",
              "\n",
              "#sk-container-id-1 div.sk-dashed-wrapped {\n",
              "  border: 1px dashed var(--sklearn-color-line);\n",
              "  margin: 0 0.4em 0.5em 0.4em;\n",
              "  box-sizing: border-box;\n",
              "  padding-bottom: 0.4em;\n",
              "  background-color: var(--sklearn-color-background);\n",
              "}\n",
              "\n",
              "#sk-container-id-1 div.sk-container {\n",
              "  /* jupyter's `normalize.less` sets `[hidden] { display: none; }`\n",
              "     but bootstrap.min.css set `[hidden] { display: none !important; }`\n",
              "     so we also need the `!important` here to be able to override the\n",
              "     default hidden behavior on the sphinx rendered scikit-learn.org.\n",
              "     See: https://github.com/scikit-learn/scikit-learn/issues/21755 */\n",
              "  display: inline-block !important;\n",
              "  position: relative;\n",
              "}\n",
              "\n",
              "#sk-container-id-1 div.sk-text-repr-fallback {\n",
              "  display: none;\n",
              "}\n",
              "\n",
              "div.sk-parallel-item,\n",
              "div.sk-serial,\n",
              "div.sk-item {\n",
              "  /* draw centered vertical line to link estimators */\n",
              "  background-image: linear-gradient(var(--sklearn-color-text-on-default-background), var(--sklearn-color-text-on-default-background));\n",
              "  background-size: 2px 100%;\n",
              "  background-repeat: no-repeat;\n",
              "  background-position: center center;\n",
              "}\n",
              "\n",
              "/* Parallel-specific style estimator block */\n",
              "\n",
              "#sk-container-id-1 div.sk-parallel-item::after {\n",
              "  content: \"\";\n",
              "  width: 100%;\n",
              "  border-bottom: 2px solid var(--sklearn-color-text-on-default-background);\n",
              "  flex-grow: 1;\n",
              "}\n",
              "\n",
              "#sk-container-id-1 div.sk-parallel {\n",
              "  display: flex;\n",
              "  align-items: stretch;\n",
              "  justify-content: center;\n",
              "  background-color: var(--sklearn-color-background);\n",
              "  position: relative;\n",
              "}\n",
              "\n",
              "#sk-container-id-1 div.sk-parallel-item {\n",
              "  display: flex;\n",
              "  flex-direction: column;\n",
              "}\n",
              "\n",
              "#sk-container-id-1 div.sk-parallel-item:first-child::after {\n",
              "  align-self: flex-end;\n",
              "  width: 50%;\n",
              "}\n",
              "\n",
              "#sk-container-id-1 div.sk-parallel-item:last-child::after {\n",
              "  align-self: flex-start;\n",
              "  width: 50%;\n",
              "}\n",
              "\n",
              "#sk-container-id-1 div.sk-parallel-item:only-child::after {\n",
              "  width: 0;\n",
              "}\n",
              "\n",
              "/* Serial-specific style estimator block */\n",
              "\n",
              "#sk-container-id-1 div.sk-serial {\n",
              "  display: flex;\n",
              "  flex-direction: column;\n",
              "  align-items: center;\n",
              "  background-color: var(--sklearn-color-background);\n",
              "  padding-right: 1em;\n",
              "  padding-left: 1em;\n",
              "}\n",
              "\n",
              "\n",
              "/* Toggleable style: style used for estimator/Pipeline/ColumnTransformer box that is\n",
              "clickable and can be expanded/collapsed.\n",
              "- Pipeline and ColumnTransformer use this feature and define the default style\n",
              "- Estimators will overwrite some part of the style using the `sk-estimator` class\n",
              "*/\n",
              "\n",
              "/* Pipeline and ColumnTransformer style (default) */\n",
              "\n",
              "#sk-container-id-1 div.sk-toggleable {\n",
              "  /* Default theme specific background. It is overwritten whether we have a\n",
              "  specific estimator or a Pipeline/ColumnTransformer */\n",
              "  background-color: var(--sklearn-color-background);\n",
              "}\n",
              "\n",
              "/* Toggleable label */\n",
              "#sk-container-id-1 label.sk-toggleable__label {\n",
              "  cursor: pointer;\n",
              "  display: block;\n",
              "  width: 100%;\n",
              "  margin-bottom: 0;\n",
              "  padding: 0.5em;\n",
              "  box-sizing: border-box;\n",
              "  text-align: center;\n",
              "}\n",
              "\n",
              "#sk-container-id-1 label.sk-toggleable__label-arrow:before {\n",
              "  /* Arrow on the left of the label */\n",
              "  content: \"▸\";\n",
              "  float: left;\n",
              "  margin-right: 0.25em;\n",
              "  color: var(--sklearn-color-icon);\n",
              "}\n",
              "\n",
              "#sk-container-id-1 label.sk-toggleable__label-arrow:hover:before {\n",
              "  color: var(--sklearn-color-text);\n",
              "}\n",
              "\n",
              "/* Toggleable content - dropdown */\n",
              "\n",
              "#sk-container-id-1 div.sk-toggleable__content {\n",
              "  max-height: 0;\n",
              "  max-width: 0;\n",
              "  overflow: hidden;\n",
              "  text-align: left;\n",
              "  /* unfitted */\n",
              "  background-color: var(--sklearn-color-unfitted-level-0);\n",
              "}\n",
              "\n",
              "#sk-container-id-1 div.sk-toggleable__content.fitted {\n",
              "  /* fitted */\n",
              "  background-color: var(--sklearn-color-fitted-level-0);\n",
              "}\n",
              "\n",
              "#sk-container-id-1 div.sk-toggleable__content pre {\n",
              "  margin: 0.2em;\n",
              "  border-radius: 0.25em;\n",
              "  color: var(--sklearn-color-text);\n",
              "  /* unfitted */\n",
              "  background-color: var(--sklearn-color-unfitted-level-0);\n",
              "}\n",
              "\n",
              "#sk-container-id-1 div.sk-toggleable__content.fitted pre {\n",
              "  /* unfitted */\n",
              "  background-color: var(--sklearn-color-fitted-level-0);\n",
              "}\n",
              "\n",
              "#sk-container-id-1 input.sk-toggleable__control:checked~div.sk-toggleable__content {\n",
              "  /* Expand drop-down */\n",
              "  max-height: 200px;\n",
              "  max-width: 100%;\n",
              "  overflow: auto;\n",
              "}\n",
              "\n",
              "#sk-container-id-1 input.sk-toggleable__control:checked~label.sk-toggleable__label-arrow:before {\n",
              "  content: \"▾\";\n",
              "}\n",
              "\n",
              "/* Pipeline/ColumnTransformer-specific style */\n",
              "\n",
              "#sk-container-id-1 div.sk-label input.sk-toggleable__control:checked~label.sk-toggleable__label {\n",
              "  color: var(--sklearn-color-text);\n",
              "  background-color: var(--sklearn-color-unfitted-level-2);\n",
              "}\n",
              "\n",
              "#sk-container-id-1 div.sk-label.fitted input.sk-toggleable__control:checked~label.sk-toggleable__label {\n",
              "  background-color: var(--sklearn-color-fitted-level-2);\n",
              "}\n",
              "\n",
              "/* Estimator-specific style */\n",
              "\n",
              "/* Colorize estimator box */\n",
              "#sk-container-id-1 div.sk-estimator input.sk-toggleable__control:checked~label.sk-toggleable__label {\n",
              "  /* unfitted */\n",
              "  background-color: var(--sklearn-color-unfitted-level-2);\n",
              "}\n",
              "\n",
              "#sk-container-id-1 div.sk-estimator.fitted input.sk-toggleable__control:checked~label.sk-toggleable__label {\n",
              "  /* fitted */\n",
              "  background-color: var(--sklearn-color-fitted-level-2);\n",
              "}\n",
              "\n",
              "#sk-container-id-1 div.sk-label label.sk-toggleable__label,\n",
              "#sk-container-id-1 div.sk-label label {\n",
              "  /* The background is the default theme color */\n",
              "  color: var(--sklearn-color-text-on-default-background);\n",
              "}\n",
              "\n",
              "/* On hover, darken the color of the background */\n",
              "#sk-container-id-1 div.sk-label:hover label.sk-toggleable__label {\n",
              "  color: var(--sklearn-color-text);\n",
              "  background-color: var(--sklearn-color-unfitted-level-2);\n",
              "}\n",
              "\n",
              "/* Label box, darken color on hover, fitted */\n",
              "#sk-container-id-1 div.sk-label.fitted:hover label.sk-toggleable__label.fitted {\n",
              "  color: var(--sklearn-color-text);\n",
              "  background-color: var(--sklearn-color-fitted-level-2);\n",
              "}\n",
              "\n",
              "/* Estimator label */\n",
              "\n",
              "#sk-container-id-1 div.sk-label label {\n",
              "  font-family: monospace;\n",
              "  font-weight: bold;\n",
              "  display: inline-block;\n",
              "  line-height: 1.2em;\n",
              "}\n",
              "\n",
              "#sk-container-id-1 div.sk-label-container {\n",
              "  text-align: center;\n",
              "}\n",
              "\n",
              "/* Estimator-specific */\n",
              "#sk-container-id-1 div.sk-estimator {\n",
              "  font-family: monospace;\n",
              "  border: 1px dotted var(--sklearn-color-border-box);\n",
              "  border-radius: 0.25em;\n",
              "  box-sizing: border-box;\n",
              "  margin-bottom: 0.5em;\n",
              "  /* unfitted */\n",
              "  background-color: var(--sklearn-color-unfitted-level-0);\n",
              "}\n",
              "\n",
              "#sk-container-id-1 div.sk-estimator.fitted {\n",
              "  /* fitted */\n",
              "  background-color: var(--sklearn-color-fitted-level-0);\n",
              "}\n",
              "\n",
              "/* on hover */\n",
              "#sk-container-id-1 div.sk-estimator:hover {\n",
              "  /* unfitted */\n",
              "  background-color: var(--sklearn-color-unfitted-level-2);\n",
              "}\n",
              "\n",
              "#sk-container-id-1 div.sk-estimator.fitted:hover {\n",
              "  /* fitted */\n",
              "  background-color: var(--sklearn-color-fitted-level-2);\n",
              "}\n",
              "\n",
              "/* Specification for estimator info (e.g. \"i\" and \"?\") */\n",
              "\n",
              "/* Common style for \"i\" and \"?\" */\n",
              "\n",
              ".sk-estimator-doc-link,\n",
              "a:link.sk-estimator-doc-link,\n",
              "a:visited.sk-estimator-doc-link {\n",
              "  float: right;\n",
              "  font-size: smaller;\n",
              "  line-height: 1em;\n",
              "  font-family: monospace;\n",
              "  background-color: var(--sklearn-color-background);\n",
              "  border-radius: 1em;\n",
              "  height: 1em;\n",
              "  width: 1em;\n",
              "  text-decoration: none !important;\n",
              "  margin-left: 1ex;\n",
              "  /* unfitted */\n",
              "  border: var(--sklearn-color-unfitted-level-1) 1pt solid;\n",
              "  color: var(--sklearn-color-unfitted-level-1);\n",
              "}\n",
              "\n",
              ".sk-estimator-doc-link.fitted,\n",
              "a:link.sk-estimator-doc-link.fitted,\n",
              "a:visited.sk-estimator-doc-link.fitted {\n",
              "  /* fitted */\n",
              "  border: var(--sklearn-color-fitted-level-1) 1pt solid;\n",
              "  color: var(--sklearn-color-fitted-level-1);\n",
              "}\n",
              "\n",
              "/* On hover */\n",
              "div.sk-estimator:hover .sk-estimator-doc-link:hover,\n",
              ".sk-estimator-doc-link:hover,\n",
              "div.sk-label-container:hover .sk-estimator-doc-link:hover,\n",
              ".sk-estimator-doc-link:hover {\n",
              "  /* unfitted */\n",
              "  background-color: var(--sklearn-color-unfitted-level-3);\n",
              "  color: var(--sklearn-color-background);\n",
              "  text-decoration: none;\n",
              "}\n",
              "\n",
              "div.sk-estimator.fitted:hover .sk-estimator-doc-link.fitted:hover,\n",
              ".sk-estimator-doc-link.fitted:hover,\n",
              "div.sk-label-container:hover .sk-estimator-doc-link.fitted:hover,\n",
              ".sk-estimator-doc-link.fitted:hover {\n",
              "  /* fitted */\n",
              "  background-color: var(--sklearn-color-fitted-level-3);\n",
              "  color: var(--sklearn-color-background);\n",
              "  text-decoration: none;\n",
              "}\n",
              "\n",
              "/* Span, style for the box shown on hovering the info icon */\n",
              ".sk-estimator-doc-link span {\n",
              "  display: none;\n",
              "  z-index: 9999;\n",
              "  position: relative;\n",
              "  font-weight: normal;\n",
              "  right: .2ex;\n",
              "  padding: .5ex;\n",
              "  margin: .5ex;\n",
              "  width: min-content;\n",
              "  min-width: 20ex;\n",
              "  max-width: 50ex;\n",
              "  color: var(--sklearn-color-text);\n",
              "  box-shadow: 2pt 2pt 4pt #999;\n",
              "  /* unfitted */\n",
              "  background: var(--sklearn-color-unfitted-level-0);\n",
              "  border: .5pt solid var(--sklearn-color-unfitted-level-3);\n",
              "}\n",
              "\n",
              ".sk-estimator-doc-link.fitted span {\n",
              "  /* fitted */\n",
              "  background: var(--sklearn-color-fitted-level-0);\n",
              "  border: var(--sklearn-color-fitted-level-3);\n",
              "}\n",
              "\n",
              ".sk-estimator-doc-link:hover span {\n",
              "  display: block;\n",
              "}\n",
              "\n",
              "/* \"?\"-specific style due to the `<a>` HTML tag */\n",
              "\n",
              "#sk-container-id-1 a.estimator_doc_link {\n",
              "  float: right;\n",
              "  font-size: 1rem;\n",
              "  line-height: 1em;\n",
              "  font-family: monospace;\n",
              "  background-color: var(--sklearn-color-background);\n",
              "  border-radius: 1rem;\n",
              "  height: 1rem;\n",
              "  width: 1rem;\n",
              "  text-decoration: none;\n",
              "  /* unfitted */\n",
              "  color: var(--sklearn-color-unfitted-level-1);\n",
              "  border: var(--sklearn-color-unfitted-level-1) 1pt solid;\n",
              "}\n",
              "\n",
              "#sk-container-id-1 a.estimator_doc_link.fitted {\n",
              "  /* fitted */\n",
              "  border: var(--sklearn-color-fitted-level-1) 1pt solid;\n",
              "  color: var(--sklearn-color-fitted-level-1);\n",
              "}\n",
              "\n",
              "/* On hover */\n",
              "#sk-container-id-1 a.estimator_doc_link:hover {\n",
              "  /* unfitted */\n",
              "  background-color: var(--sklearn-color-unfitted-level-3);\n",
              "  color: var(--sklearn-color-background);\n",
              "  text-decoration: none;\n",
              "}\n",
              "\n",
              "#sk-container-id-1 a.estimator_doc_link.fitted:hover {\n",
              "  /* fitted */\n",
              "  background-color: var(--sklearn-color-fitted-level-3);\n",
              "}\n",
              "</style><div id=\"sk-container-id-1\" class=\"sk-top-container\"><div class=\"sk-text-repr-fallback\"><pre>Pipeline(steps=[(&#x27;preprocessing&#x27;,\n",
              "                 ColumnTransformer(remainder=&#x27;passthrough&#x27;,\n",
              "                                   transformers=[(&#x27;Ordinal_Encoding&#x27;,\n",
              "                                                  OrdinalEncoder(categories=[[&#x27;DIAMOND&#x27;,\n",
              "                                                                              &#x27;PLATINUM&#x27;,\n",
              "                                                                              &#x27;GOLD&#x27;,\n",
              "                                                                              &#x27;SILVER&#x27;]]),\n",
              "                                                  [&#x27;Card Type&#x27;]),\n",
              "                                                 (&#x27;One_Hot_Encoding&#x27;,\n",
              "                                                  OneHotEncoder(drop=&#x27;first&#x27;),\n",
              "                                                  [&#x27;Gender&#x27;, &#x27;Geography&#x27;]),\n",
              "                                                 (&#x27;Yeo-JohnsonTransformer&#x27;,\n",
              "                                                  PowerTransformer(),\n",
              "                                                  [&#x27;Balance&#x27;]),\n",
              "                                                 (&#x27;MinMaxScaler&#x27;,\n",
              "                                                  MinMaxScaler(),\n",
              "                                                  [&#x27;NumOfProducts&#x27;, &#x27;Age&#x27;,\n",
              "                                                   &#x27;CreditScore&#x27;,\n",
              "                                                   &#x27;Point Earned&#x27;])])),\n",
              "                (&#x27;classifier&#x27;, RandomForestClassifier())])</pre><b>In a Jupyter environment, please rerun this cell to show the HTML representation or trust the notebook. <br />On GitHub, the HTML representation is unable to render, please try loading this page with nbviewer.org.</b></div><div class=\"sk-container\" hidden><div class=\"sk-item sk-dashed-wrapped\"><div class=\"sk-label-container\"><div class=\"sk-label fitted sk-toggleable\"><input class=\"sk-toggleable__control sk-hidden--visually\" id=\"sk-estimator-id-1\" type=\"checkbox\" ><label for=\"sk-estimator-id-1\" class=\"sk-toggleable__label fitted sk-toggleable__label-arrow fitted\">&nbsp;&nbsp;Pipeline<a class=\"sk-estimator-doc-link fitted\" rel=\"noreferrer\" target=\"_blank\" href=\"https://scikit-learn.org/1.4/modules/generated/sklearn.pipeline.Pipeline.html\">?<span>Documentation for Pipeline</span></a><span class=\"sk-estimator-doc-link fitted\">i<span>Fitted</span></span></label><div class=\"sk-toggleable__content fitted\"><pre>Pipeline(steps=[(&#x27;preprocessing&#x27;,\n",
              "                 ColumnTransformer(remainder=&#x27;passthrough&#x27;,\n",
              "                                   transformers=[(&#x27;Ordinal_Encoding&#x27;,\n",
              "                                                  OrdinalEncoder(categories=[[&#x27;DIAMOND&#x27;,\n",
              "                                                                              &#x27;PLATINUM&#x27;,\n",
              "                                                                              &#x27;GOLD&#x27;,\n",
              "                                                                              &#x27;SILVER&#x27;]]),\n",
              "                                                  [&#x27;Card Type&#x27;]),\n",
              "                                                 (&#x27;One_Hot_Encoding&#x27;,\n",
              "                                                  OneHotEncoder(drop=&#x27;first&#x27;),\n",
              "                                                  [&#x27;Gender&#x27;, &#x27;Geography&#x27;]),\n",
              "                                                 (&#x27;Yeo-JohnsonTransformer&#x27;,\n",
              "                                                  PowerTransformer(),\n",
              "                                                  [&#x27;Balance&#x27;]),\n",
              "                                                 (&#x27;MinMaxScaler&#x27;,\n",
              "                                                  MinMaxScaler(),\n",
              "                                                  [&#x27;NumOfProducts&#x27;, &#x27;Age&#x27;,\n",
              "                                                   &#x27;CreditScore&#x27;,\n",
              "                                                   &#x27;Point Earned&#x27;])])),\n",
              "                (&#x27;classifier&#x27;, RandomForestClassifier())])</pre></div> </div></div><div class=\"sk-serial\"><div class=\"sk-item sk-dashed-wrapped\"><div class=\"sk-label-container\"><div class=\"sk-label fitted sk-toggleable\"><input class=\"sk-toggleable__control sk-hidden--visually\" id=\"sk-estimator-id-2\" type=\"checkbox\" ><label for=\"sk-estimator-id-2\" class=\"sk-toggleable__label fitted sk-toggleable__label-arrow fitted\">&nbsp;preprocessing: ColumnTransformer<a class=\"sk-estimator-doc-link fitted\" rel=\"noreferrer\" target=\"_blank\" href=\"https://scikit-learn.org/1.4/modules/generated/sklearn.compose.ColumnTransformer.html\">?<span>Documentation for preprocessing: ColumnTransformer</span></a></label><div class=\"sk-toggleable__content fitted\"><pre>ColumnTransformer(remainder=&#x27;passthrough&#x27;,\n",
              "                  transformers=[(&#x27;Ordinal_Encoding&#x27;,\n",
              "                                 OrdinalEncoder(categories=[[&#x27;DIAMOND&#x27;,\n",
              "                                                             &#x27;PLATINUM&#x27;, &#x27;GOLD&#x27;,\n",
              "                                                             &#x27;SILVER&#x27;]]),\n",
              "                                 [&#x27;Card Type&#x27;]),\n",
              "                                (&#x27;One_Hot_Encoding&#x27;,\n",
              "                                 OneHotEncoder(drop=&#x27;first&#x27;),\n",
              "                                 [&#x27;Gender&#x27;, &#x27;Geography&#x27;]),\n",
              "                                (&#x27;Yeo-JohnsonTransformer&#x27;, PowerTransformer(),\n",
              "                                 [&#x27;Balance&#x27;]),\n",
              "                                (&#x27;MinMaxScaler&#x27;, MinMaxScaler(),\n",
              "                                 [&#x27;NumOfProducts&#x27;, &#x27;Age&#x27;, &#x27;CreditScore&#x27;,\n",
              "                                  &#x27;Point Earned&#x27;])])</pre></div> </div></div><div class=\"sk-parallel\"><div class=\"sk-parallel-item\"><div class=\"sk-item\"><div class=\"sk-label-container\"><div class=\"sk-label fitted sk-toggleable\"><input class=\"sk-toggleable__control sk-hidden--visually\" id=\"sk-estimator-id-3\" type=\"checkbox\" ><label for=\"sk-estimator-id-3\" class=\"sk-toggleable__label fitted sk-toggleable__label-arrow fitted\">Ordinal_Encoding</label><div class=\"sk-toggleable__content fitted\"><pre>[&#x27;Card Type&#x27;]</pre></div> </div></div><div class=\"sk-serial\"><div class=\"sk-item\"><div class=\"sk-estimator fitted sk-toggleable\"><input class=\"sk-toggleable__control sk-hidden--visually\" id=\"sk-estimator-id-4\" type=\"checkbox\" ><label for=\"sk-estimator-id-4\" class=\"sk-toggleable__label fitted sk-toggleable__label-arrow fitted\">&nbsp;OrdinalEncoder<a class=\"sk-estimator-doc-link fitted\" rel=\"noreferrer\" target=\"_blank\" href=\"https://scikit-learn.org/1.4/modules/generated/sklearn.preprocessing.OrdinalEncoder.html\">?<span>Documentation for OrdinalEncoder</span></a></label><div class=\"sk-toggleable__content fitted\"><pre>OrdinalEncoder(categories=[[&#x27;DIAMOND&#x27;, &#x27;PLATINUM&#x27;, &#x27;GOLD&#x27;, &#x27;SILVER&#x27;]])</pre></div> </div></div></div></div></div><div class=\"sk-parallel-item\"><div class=\"sk-item\"><div class=\"sk-label-container\"><div class=\"sk-label fitted sk-toggleable\"><input class=\"sk-toggleable__control sk-hidden--visually\" id=\"sk-estimator-id-5\" type=\"checkbox\" ><label for=\"sk-estimator-id-5\" class=\"sk-toggleable__label fitted sk-toggleable__label-arrow fitted\">One_Hot_Encoding</label><div class=\"sk-toggleable__content fitted\"><pre>[&#x27;Gender&#x27;, &#x27;Geography&#x27;]</pre></div> </div></div><div class=\"sk-serial\"><div class=\"sk-item\"><div class=\"sk-estimator fitted sk-toggleable\"><input class=\"sk-toggleable__control sk-hidden--visually\" id=\"sk-estimator-id-6\" type=\"checkbox\" ><label for=\"sk-estimator-id-6\" class=\"sk-toggleable__label fitted sk-toggleable__label-arrow fitted\">&nbsp;OneHotEncoder<a class=\"sk-estimator-doc-link fitted\" rel=\"noreferrer\" target=\"_blank\" href=\"https://scikit-learn.org/1.4/modules/generated/sklearn.preprocessing.OneHotEncoder.html\">?<span>Documentation for OneHotEncoder</span></a></label><div class=\"sk-toggleable__content fitted\"><pre>OneHotEncoder(drop=&#x27;first&#x27;)</pre></div> </div></div></div></div></div><div class=\"sk-parallel-item\"><div class=\"sk-item\"><div class=\"sk-label-container\"><div class=\"sk-label fitted sk-toggleable\"><input class=\"sk-toggleable__control sk-hidden--visually\" id=\"sk-estimator-id-7\" type=\"checkbox\" ><label for=\"sk-estimator-id-7\" class=\"sk-toggleable__label fitted sk-toggleable__label-arrow fitted\">Yeo-JohnsonTransformer</label><div class=\"sk-toggleable__content fitted\"><pre>[&#x27;Balance&#x27;]</pre></div> </div></div><div class=\"sk-serial\"><div class=\"sk-item\"><div class=\"sk-estimator fitted sk-toggleable\"><input class=\"sk-toggleable__control sk-hidden--visually\" id=\"sk-estimator-id-8\" type=\"checkbox\" ><label for=\"sk-estimator-id-8\" class=\"sk-toggleable__label fitted sk-toggleable__label-arrow fitted\">&nbsp;PowerTransformer<a class=\"sk-estimator-doc-link fitted\" rel=\"noreferrer\" target=\"_blank\" href=\"https://scikit-learn.org/1.4/modules/generated/sklearn.preprocessing.PowerTransformer.html\">?<span>Documentation for PowerTransformer</span></a></label><div class=\"sk-toggleable__content fitted\"><pre>PowerTransformer()</pre></div> </div></div></div></div></div><div class=\"sk-parallel-item\"><div class=\"sk-item\"><div class=\"sk-label-container\"><div class=\"sk-label fitted sk-toggleable\"><input class=\"sk-toggleable__control sk-hidden--visually\" id=\"sk-estimator-id-9\" type=\"checkbox\" ><label for=\"sk-estimator-id-9\" class=\"sk-toggleable__label fitted sk-toggleable__label-arrow fitted\">MinMaxScaler</label><div class=\"sk-toggleable__content fitted\"><pre>[&#x27;NumOfProducts&#x27;, &#x27;Age&#x27;, &#x27;CreditScore&#x27;, &#x27;Point Earned&#x27;]</pre></div> </div></div><div class=\"sk-serial\"><div class=\"sk-item\"><div class=\"sk-estimator fitted sk-toggleable\"><input class=\"sk-toggleable__control sk-hidden--visually\" id=\"sk-estimator-id-10\" type=\"checkbox\" ><label for=\"sk-estimator-id-10\" class=\"sk-toggleable__label fitted sk-toggleable__label-arrow fitted\">&nbsp;MinMaxScaler<a class=\"sk-estimator-doc-link fitted\" rel=\"noreferrer\" target=\"_blank\" href=\"https://scikit-learn.org/1.4/modules/generated/sklearn.preprocessing.MinMaxScaler.html\">?<span>Documentation for MinMaxScaler</span></a></label><div class=\"sk-toggleable__content fitted\"><pre>MinMaxScaler()</pre></div> </div></div></div></div></div><div class=\"sk-parallel-item\"><div class=\"sk-item\"><div class=\"sk-label-container\"><div class=\"sk-label fitted sk-toggleable\"><input class=\"sk-toggleable__control sk-hidden--visually\" id=\"sk-estimator-id-11\" type=\"checkbox\" ><label for=\"sk-estimator-id-11\" class=\"sk-toggleable__label fitted sk-toggleable__label-arrow fitted\">remainder</label><div class=\"sk-toggleable__content fitted\"><pre>[&#x27;Tenure&#x27;, &#x27;HasCrCard&#x27;, &#x27;IsActiveMember&#x27;, &#x27;EstimatedSalary&#x27;, &#x27;Complain&#x27;, &#x27;Satisfaction Score&#x27;]</pre></div> </div></div><div class=\"sk-serial\"><div class=\"sk-item\"><div class=\"sk-estimator fitted sk-toggleable\"><input class=\"sk-toggleable__control sk-hidden--visually\" id=\"sk-estimator-id-12\" type=\"checkbox\" ><label for=\"sk-estimator-id-12\" class=\"sk-toggleable__label fitted sk-toggleable__label-arrow fitted\">passthrough</label><div class=\"sk-toggleable__content fitted\"><pre>passthrough</pre></div> </div></div></div></div></div></div></div><div class=\"sk-item\"><div class=\"sk-estimator fitted sk-toggleable\"><input class=\"sk-toggleable__control sk-hidden--visually\" id=\"sk-estimator-id-13\" type=\"checkbox\" ><label for=\"sk-estimator-id-13\" class=\"sk-toggleable__label fitted sk-toggleable__label-arrow fitted\">&nbsp;RandomForestClassifier<a class=\"sk-estimator-doc-link fitted\" rel=\"noreferrer\" target=\"_blank\" href=\"https://scikit-learn.org/1.4/modules/generated/sklearn.ensemble.RandomForestClassifier.html\">?<span>Documentation for RandomForestClassifier</span></a></label><div class=\"sk-toggleable__content fitted\"><pre>RandomForestClassifier()</pre></div> </div></div></div></div></div></div>"
            ],
            "text/plain": [
              "Pipeline(steps=[('preprocessing',\n",
              "                 ColumnTransformer(remainder='passthrough',\n",
              "                                   transformers=[('Ordinal_Encoding',\n",
              "                                                  OrdinalEncoder(categories=[['DIAMOND',\n",
              "                                                                              'PLATINUM',\n",
              "                                                                              'GOLD',\n",
              "                                                                              'SILVER']]),\n",
              "                                                  ['Card Type']),\n",
              "                                                 ('One_Hot_Encoding',\n",
              "                                                  OneHotEncoder(drop='first'),\n",
              "                                                  ['Gender', 'Geography']),\n",
              "                                                 ('Yeo-JohnsonTransformer',\n",
              "                                                  PowerTransformer(),\n",
              "                                                  ['Balance']),\n",
              "                                                 ('MinMaxScaler',\n",
              "                                                  MinMaxScaler(),\n",
              "                                                  ['NumOfProducts', 'Age',\n",
              "                                                   'CreditScore',\n",
              "                                                   'Point Earned'])])),\n",
              "                ('classifier', RandomForestClassifier())])"
            ]
          },
          "execution_count": 20,
          "metadata": {},
          "output_type": "execute_result"
        }
      ],
      "source": [
        "pipeline.fit(X_train,y_train)"
      ]
    },
    {
      "cell_type": "code",
      "execution_count": 21,
      "metadata": {
        "id": "nS2hbgmqumTg"
      },
      "outputs": [],
      "source": [
        "# X_train_transformed=transformer.fit_transform(X_train)\n",
        "# X_test_transformed=transformer.transform(X_test)"
      ]
    },
    {
      "cell_type": "code",
      "execution_count": 22,
      "metadata": {
        "id": "SNoYZY_mumTg"
      },
      "outputs": [],
      "source": [
        "# classifier=RandomForestClassifier(random_state=42)"
      ]
    },
    {
      "cell_type": "code",
      "execution_count": 23,
      "metadata": {
        "id": "BpwBcq8RumTg"
      },
      "outputs": [],
      "source": [
        "# my_model=classifier.fit(X_train_transformed,y_train)"
      ]
    },
    {
      "cell_type": "code",
      "execution_count": 24,
      "metadata": {
        "colab": {
          "base_uri": "https://localhost:8080/"
        },
        "id": "Lx8zT-98umTg",
        "outputId": "5f146c63-6664-4b12-e7e4-ea009523e6a1"
      },
      "outputs": [
        {
          "data": {
            "text/plain": [
              "CreditScore          -0.070166\n",
              "Age                   1.034482\n",
              "Tenure                0.016585\n",
              "Balance              -0.148462\n",
              "NumOfProducts         0.737134\n",
              "HasCrCard            -0.902506\n",
              "IsActiveMember       -0.048023\n",
              "EstimatedSalary      -0.001158\n",
              "Complain              1.463651\n",
              "Satisfaction Score   -0.015492\n",
              "Point Earned          0.019720\n",
              "dtype: float64"
            ]
          },
          "execution_count": 24,
          "metadata": {},
          "output_type": "execute_result"
        }
      ],
      "source": [
        "X_train.drop(axis=1,columns=cat_col).skew()"
      ]
    },
    {
      "cell_type": "code",
      "execution_count": 25,
      "metadata": {
        "id": "0gy3pRpjumTh"
      },
      "outputs": [],
      "source": [
        "# y_pred=classifier.predict(X_test_transformed)"
      ]
    },
    {
      "cell_type": "code",
      "execution_count": 26,
      "metadata": {
        "id": "385R80KXumTh"
      },
      "outputs": [],
      "source": [
        "y_pred=pipeline.predict(X_test)"
      ]
    },
    {
      "cell_type": "code",
      "execution_count": 27,
      "metadata": {
        "colab": {
          "base_uri": "https://localhost:8080/"
        },
        "id": "R5y0C85JumTh",
        "outputId": "2a8c6ee9-01de-4c05-b3a9-93627f4771f4"
      },
      "outputs": [
        {
          "data": {
            "text/plain": [
              "array([[1594,    1],\n",
              "       [   0,  405]])"
            ]
          },
          "execution_count": 27,
          "metadata": {},
          "output_type": "execute_result"
        }
      ],
      "source": [
        "confusion_matrix(y_pred=y_pred,y_true=y_test)"
      ]
    },
    {
      "cell_type": "code",
      "execution_count": 28,
      "metadata": {
        "colab": {
          "base_uri": "https://localhost:8080/"
        },
        "id": "bcXrU-VfumTh",
        "outputId": "8c9e6dac-65d4-4af8-e752-0104e4ec8237"
      },
      "outputs": [
        {
          "data": {
            "text/plain": [
              "0.9995"
            ]
          },
          "execution_count": 28,
          "metadata": {},
          "output_type": "execute_result"
        }
      ],
      "source": [
        "accuracy_score(y_pred=y_pred,y_true=y_test)"
      ]
    },
    {
      "cell_type": "code",
      "execution_count": 29,
      "metadata": {
        "colab": {
          "base_uri": "https://localhost:8080/"
        },
        "id": "Y_vMgCM5umTh",
        "outputId": "077e0537-47d0-432f-bafd-cd99de2248a0"
      },
      "outputs": [
        {
          "data": {
            "text/plain": [
              "0.998766954377312"
            ]
          },
          "execution_count": 29,
          "metadata": {},
          "output_type": "execute_result"
        }
      ],
      "source": [
        "f1_score(y_pred=y_pred,y_true=y_test)"
      ]
    },
    {
      "cell_type": "code",
      "execution_count": 30,
      "metadata": {
        "colab": {
          "base_uri": "https://localhost:8080/"
        },
        "id": "ACPWpHFdumTi",
        "outputId": "b2812cc5-a6a8-4118-e1c9-663753063f7a"
      },
      "outputs": [
        {
          "data": {
            "text/plain": [
              "0.0005"
            ]
          },
          "execution_count": 30,
          "metadata": {},
          "output_type": "execute_result"
        }
      ],
      "source": [
        "mean_squared_error(y_pred=y_pred,y_true=y_test)"
      ]
    },
    {
      "cell_type": "code",
      "execution_count": 31,
      "metadata": {
        "colab": {
          "base_uri": "https://localhost:8080/"
        },
        "id": "vexIANqDumTi",
        "outputId": "34134536-e6cd-4314-ce50-7bab0ebdc4ab"
      },
      "outputs": [
        {
          "data": {
            "text/plain": [
              "0.9975369458128078"
            ]
          },
          "execution_count": 31,
          "metadata": {},
          "output_type": "execute_result"
        }
      ],
      "source": [
        "precision_score(y_pred=y_pred,y_true=y_test)"
      ]
    },
    {
      "cell_type": "code",
      "execution_count": 32,
      "metadata": {
        "colab": {
          "base_uri": "https://localhost:8080/"
        },
        "id": "3Bf9WQqhumTi",
        "outputId": "26ff8aa8-9fd9-4f09-be4d-a62ad6a164b5"
      },
      "outputs": [
        {
          "name": "stdout",
          "output_type": "stream",
          "text": [
            "              precision    recall  f1-score   support\n",
            "\n",
            "           0       1.00      1.00      1.00      1595\n",
            "           1       1.00      1.00      1.00       405\n",
            "\n",
            "    accuracy                           1.00      2000\n",
            "   macro avg       1.00      1.00      1.00      2000\n",
            "weighted avg       1.00      1.00      1.00      2000\n",
            "\n"
          ]
        }
      ],
      "source": [
        "report=classification_report(y_pred=y_pred,y_true=y_test)\n",
        "print(report)"
      ]
    },
    {
      "cell_type": "code",
      "execution_count": 33,
      "metadata": {
        "id": "n_rGUzKoumTi"
      },
      "outputs": [],
      "source": [
        "X_test_transformed = pipeline.named_steps['preprocessing'].transform(X_test)"
      ]
    },
    {
      "cell_type": "code",
      "execution_count": 34,
      "metadata": {
        "id": "Zn8diQHYumTi"
      },
      "outputs": [],
      "source": [
        "feature_names = pipeline.named_steps['preprocessing'].get_feature_names_out()"
      ]
    },
    {
      "cell_type": "code",
      "execution_count": 35,
      "metadata": {
        "colab": {
          "base_uri": "https://localhost:8080/"
        },
        "id": "0ZU6knRnumTi",
        "outputId": "a50ad29f-20a4-43f6-b5a3-d3d6f374fce3"
      },
      "outputs": [
        {
          "data": {
            "text/plain": [
              "array(['Ordinal_Encoding__Card Type', 'One_Hot_Encoding__Gender_Male',\n",
              "       'One_Hot_Encoding__Geography_Germany',\n",
              "       'One_Hot_Encoding__Geography_Spain',\n",
              "       'Yeo-JohnsonTransformer__Balance', 'MinMaxScaler__NumOfProducts',\n",
              "       'MinMaxScaler__Age', 'MinMaxScaler__CreditScore',\n",
              "       'MinMaxScaler__Point Earned', 'remainder__Tenure',\n",
              "       'remainder__HasCrCard', 'remainder__IsActiveMember',\n",
              "       'remainder__EstimatedSalary', 'remainder__Complain',\n",
              "       'remainder__Satisfaction Score'], dtype=object)"
            ]
          },
          "execution_count": 35,
          "metadata": {},
          "output_type": "execute_result"
        }
      ],
      "source": [
        "feature_names"
      ]
    },
    {
      "cell_type": "code",
      "execution_count": 36,
      "metadata": {
        "colab": {
          "base_uri": "https://localhost:8080/"
        },
        "id": "iOgcCvl77Fqf",
        "outputId": "47d5f2c0-6dd1-412a-c435-d07fafd3d565"
      },
      "outputs": [
        {
          "data": {
            "text/plain": [
              "array([[1.0000000e+00, 1.0000000e+00, 0.0000000e+00, ..., 1.0439378e+05,\n",
              "        0.0000000e+00, 5.0000000e+00],\n",
              "       [3.0000000e+00, 0.0000000e+00, 0.0000000e+00, ..., 7.0179000e+04,\n",
              "        0.0000000e+00, 3.0000000e+00],\n",
              "       [2.0000000e+00, 0.0000000e+00, 0.0000000e+00, ..., 1.0540931e+05,\n",
              "        0.0000000e+00, 3.0000000e+00],\n",
              "       ...,\n",
              "       [2.0000000e+00, 0.0000000e+00, 0.0000000e+00, ..., 1.7684353e+05,\n",
              "        0.0000000e+00, 1.0000000e+00],\n",
              "       [0.0000000e+00, 1.0000000e+00, 0.0000000e+00, ..., 6.1397400e+03,\n",
              "        0.0000000e+00, 4.0000000e+00],\n",
              "       [1.0000000e+00, 1.0000000e+00, 0.0000000e+00, ..., 1.9714589e+05,\n",
              "        0.0000000e+00, 1.0000000e+00]])"
            ]
          },
          "execution_count": 36,
          "metadata": {},
          "output_type": "execute_result"
        }
      ],
      "source": [
        "X_test_transformed"
      ]
    },
    {
      "cell_type": "code",
      "execution_count": 37,
      "metadata": {
        "id": "WNlyzkU68NiN"
      },
      "outputs": [],
      "source": [
        "columns=transformer.get_feature_names_out()"
      ]
    },
    {
      "cell_type": "code",
      "execution_count": 38,
      "metadata": {
        "id": "1zDKt1BjumTj"
      },
      "outputs": [],
      "source": [
        "X_test_transformed_df=pd.DataFrame(X_test_transformed,columns=columns)"
      ]
    },
    {
      "cell_type": "code",
      "execution_count": 39,
      "metadata": {
        "colab": {
          "base_uri": "https://localhost:8080/",
          "height": 244
        },
        "id": "jfj4gJmt7KDa",
        "outputId": "b303cb9f-a1f6-4f9f-f996-63499b30dbd0"
      },
      "outputs": [
        {
          "data": {
            "text/html": [
              "<div>\n",
              "<style scoped>\n",
              "    .dataframe tbody tr th:only-of-type {\n",
              "        vertical-align: middle;\n",
              "    }\n",
              "\n",
              "    .dataframe tbody tr th {\n",
              "        vertical-align: top;\n",
              "    }\n",
              "\n",
              "    .dataframe thead th {\n",
              "        text-align: right;\n",
              "    }\n",
              "</style>\n",
              "<table border=\"1\" class=\"dataframe\">\n",
              "  <thead>\n",
              "    <tr style=\"text-align: right;\">\n",
              "      <th></th>\n",
              "      <th>Ordinal_Encoding__Card Type</th>\n",
              "      <th>One_Hot_Encoding__Gender_Male</th>\n",
              "      <th>One_Hot_Encoding__Geography_Germany</th>\n",
              "      <th>One_Hot_Encoding__Geography_Spain</th>\n",
              "      <th>Yeo-JohnsonTransformer__Balance</th>\n",
              "      <th>MinMaxScaler__NumOfProducts</th>\n",
              "      <th>MinMaxScaler__Age</th>\n",
              "      <th>MinMaxScaler__CreditScore</th>\n",
              "      <th>MinMaxScaler__Point Earned</th>\n",
              "      <th>remainder__Tenure</th>\n",
              "      <th>remainder__HasCrCard</th>\n",
              "      <th>remainder__IsActiveMember</th>\n",
              "      <th>remainder__EstimatedSalary</th>\n",
              "      <th>remainder__Complain</th>\n",
              "      <th>remainder__Satisfaction Score</th>\n",
              "    </tr>\n",
              "  </thead>\n",
              "  <tbody>\n",
              "    <tr>\n",
              "      <th>0</th>\n",
              "      <td>1.0</td>\n",
              "      <td>1.0</td>\n",
              "      <td>0.0</td>\n",
              "      <td>1.0</td>\n",
              "      <td>-1.332767</td>\n",
              "      <td>0.333333</td>\n",
              "      <td>0.270270</td>\n",
              "      <td>0.838</td>\n",
              "      <td>0.307605</td>\n",
              "      <td>6.0</td>\n",
              "      <td>0.0</td>\n",
              "      <td>0.0</td>\n",
              "      <td>104393.78</td>\n",
              "      <td>0.0</td>\n",
              "      <td>5.0</td>\n",
              "    </tr>\n",
              "    <tr>\n",
              "      <th>1</th>\n",
              "      <td>3.0</td>\n",
              "      <td>0.0</td>\n",
              "      <td>0.0</td>\n",
              "      <td>0.0</td>\n",
              "      <td>0.761584</td>\n",
              "      <td>0.333333</td>\n",
              "      <td>0.216216</td>\n",
              "      <td>0.368</td>\n",
              "      <td>0.263337</td>\n",
              "      <td>7.0</td>\n",
              "      <td>1.0</td>\n",
              "      <td>1.0</td>\n",
              "      <td>70179.00</td>\n",
              "      <td>0.0</td>\n",
              "      <td>3.0</td>\n",
              "    </tr>\n",
              "    <tr>\n",
              "      <th>2</th>\n",
              "      <td>2.0</td>\n",
              "      <td>0.0</td>\n",
              "      <td>0.0</td>\n",
              "      <td>0.0</td>\n",
              "      <td>0.793320</td>\n",
              "      <td>0.000000</td>\n",
              "      <td>0.216216</td>\n",
              "      <td>0.758</td>\n",
              "      <td>0.607264</td>\n",
              "      <td>9.0</td>\n",
              "      <td>0.0</td>\n",
              "      <td>1.0</td>\n",
              "      <td>105409.31</td>\n",
              "      <td>0.0</td>\n",
              "      <td>3.0</td>\n",
              "    </tr>\n",
              "    <tr>\n",
              "      <th>3</th>\n",
              "      <td>0.0</td>\n",
              "      <td>0.0</td>\n",
              "      <td>0.0</td>\n",
              "      <td>0.0</td>\n",
              "      <td>0.564826</td>\n",
              "      <td>0.000000</td>\n",
              "      <td>0.162162</td>\n",
              "      <td>0.538</td>\n",
              "      <td>0.956867</td>\n",
              "      <td>7.0</td>\n",
              "      <td>1.0</td>\n",
              "      <td>1.0</td>\n",
              "      <td>160948.87</td>\n",
              "      <td>0.0</td>\n",
              "      <td>1.0</td>\n",
              "    </tr>\n",
              "    <tr>\n",
              "      <th>4</th>\n",
              "      <td>1.0</td>\n",
              "      <td>1.0</td>\n",
              "      <td>0.0</td>\n",
              "      <td>0.0</td>\n",
              "      <td>0.785479</td>\n",
              "      <td>0.333333</td>\n",
              "      <td>0.243243</td>\n",
              "      <td>0.520</td>\n",
              "      <td>0.971623</td>\n",
              "      <td>4.0</td>\n",
              "      <td>1.0</td>\n",
              "      <td>0.0</td>\n",
              "      <td>102638.35</td>\n",
              "      <td>0.0</td>\n",
              "      <td>4.0</td>\n",
              "    </tr>\n",
              "  </tbody>\n",
              "</table>\n",
              "</div>"
            ],
            "text/plain": [
              "   Ordinal_Encoding__Card Type  One_Hot_Encoding__Gender_Male  \\\n",
              "0                          1.0                            1.0   \n",
              "1                          3.0                            0.0   \n",
              "2                          2.0                            0.0   \n",
              "3                          0.0                            0.0   \n",
              "4                          1.0                            1.0   \n",
              "\n",
              "   One_Hot_Encoding__Geography_Germany  One_Hot_Encoding__Geography_Spain  \\\n",
              "0                                  0.0                                1.0   \n",
              "1                                  0.0                                0.0   \n",
              "2                                  0.0                                0.0   \n",
              "3                                  0.0                                0.0   \n",
              "4                                  0.0                                0.0   \n",
              "\n",
              "   Yeo-JohnsonTransformer__Balance  MinMaxScaler__NumOfProducts  \\\n",
              "0                        -1.332767                     0.333333   \n",
              "1                         0.761584                     0.333333   \n",
              "2                         0.793320                     0.000000   \n",
              "3                         0.564826                     0.000000   \n",
              "4                         0.785479                     0.333333   \n",
              "\n",
              "   MinMaxScaler__Age  MinMaxScaler__CreditScore  MinMaxScaler__Point Earned  \\\n",
              "0           0.270270                      0.838                    0.307605   \n",
              "1           0.216216                      0.368                    0.263337   \n",
              "2           0.216216                      0.758                    0.607264   \n",
              "3           0.162162                      0.538                    0.956867   \n",
              "4           0.243243                      0.520                    0.971623   \n",
              "\n",
              "   remainder__Tenure  remainder__HasCrCard  remainder__IsActiveMember  \\\n",
              "0                6.0                   0.0                        0.0   \n",
              "1                7.0                   1.0                        1.0   \n",
              "2                9.0                   0.0                        1.0   \n",
              "3                7.0                   1.0                        1.0   \n",
              "4                4.0                   1.0                        0.0   \n",
              "\n",
              "   remainder__EstimatedSalary  remainder__Complain  \\\n",
              "0                   104393.78                  0.0   \n",
              "1                    70179.00                  0.0   \n",
              "2                   105409.31                  0.0   \n",
              "3                   160948.87                  0.0   \n",
              "4                   102638.35                  0.0   \n",
              "\n",
              "   remainder__Satisfaction Score  \n",
              "0                            5.0  \n",
              "1                            3.0  \n",
              "2                            3.0  \n",
              "3                            1.0  \n",
              "4                            4.0  "
            ]
          },
          "execution_count": 39,
          "metadata": {},
          "output_type": "execute_result"
        }
      ],
      "source": [
        "X_test_transformed_df.head(5)"
      ]
    },
    {
      "cell_type": "code",
      "execution_count": 40,
      "metadata": {
        "id": "5lej8Y14umTj"
      },
      "outputs": [],
      "source": [
        "explainer = shap.TreeExplainer(pipeline.named_steps['classifier'])"
      ]
    },
    {
      "cell_type": "code",
      "execution_count": 41,
      "metadata": {
        "id": "gvLwpChVumTj"
      },
      "outputs": [],
      "source": [
        "shap_values = explainer.shap_values(X_test_transformed_df)"
      ]
    },
    {
      "cell_type": "code",
      "execution_count": 42,
      "metadata": {
        "colab": {
          "base_uri": "https://localhost:8080/"
        },
        "id": "KdNHhCm4umTj",
        "outputId": "62906976-b105-435d-9a01-241c7a32a81f"
      },
      "outputs": [
        {
          "data": {
            "text/plain": [
              "array([[[ 1.26800746e-03, -1.26800746e-03],\n",
              "        [ 3.00172647e-03, -3.00172647e-03],\n",
              "        [ 3.80605349e-03, -3.80605349e-03],\n",
              "        ...,\n",
              "        [ 1.07676547e-03, -1.07676547e-03],\n",
              "        [ 1.59276014e-01, -1.59276014e-01],\n",
              "        [-2.45750119e-03,  2.45750119e-03]],\n",
              "\n",
              "       [[ 1.94359806e-04, -1.94359806e-04],\n",
              "        [-3.31344969e-03,  3.31344969e-03],\n",
              "        [ 5.24095422e-03, -5.24095422e-03],\n",
              "        ...,\n",
              "        [ 1.59589900e-03, -1.59589900e-03],\n",
              "        [ 1.57411679e-01, -1.57411679e-01],\n",
              "        [ 8.57846892e-04, -8.57846892e-04]],\n",
              "\n",
              "       [[ 4.20233322e-04, -4.20233322e-04],\n",
              "        [-3.79038894e-03,  3.79038894e-03],\n",
              "        [ 8.45095995e-03, -8.45095995e-03],\n",
              "        ...,\n",
              "        [ 1.52004058e-03, -1.52004058e-03],\n",
              "        [ 1.66229698e-01, -1.66229698e-01],\n",
              "        [ 5.22620344e-04, -5.22620344e-04]],\n",
              "\n",
              "       ...,\n",
              "\n",
              "       [[ 6.30547206e-04, -6.30547206e-04],\n",
              "        [-3.71466048e-03,  3.71466048e-03],\n",
              "        [ 4.24551553e-03, -4.24551553e-03],\n",
              "        ...,\n",
              "        [-1.69207252e-03,  1.69207252e-03],\n",
              "        [ 1.61815451e-01, -1.61815451e-01],\n",
              "        [-9.37021697e-04,  9.37021697e-04]],\n",
              "\n",
              "       [[-6.97733951e-04,  6.97733951e-04],\n",
              "        [ 4.30231313e-03, -4.30231313e-03],\n",
              "        [ 3.88354121e-03, -3.88354121e-03],\n",
              "        ...,\n",
              "        [-8.80081904e-04,  8.80081904e-04],\n",
              "        [ 1.55957738e-01, -1.55957738e-01],\n",
              "        [ 1.24032320e-04, -1.24032320e-04]],\n",
              "\n",
              "       [[ 1.67954613e-03, -1.67954613e-03],\n",
              "        [ 2.94736927e-03, -2.94736927e-03],\n",
              "        [ 4.79078598e-03, -4.79078598e-03],\n",
              "        ...,\n",
              "        [-9.42307072e-03,  9.42307072e-03],\n",
              "        [ 1.75829088e-01, -1.75829088e-01],\n",
              "        [-5.22507716e-03,  5.22507716e-03]]])"
            ]
          },
          "execution_count": 42,
          "metadata": {},
          "output_type": "execute_result"
        }
      ],
      "source": [
        "shap_values"
      ]
    },
    {
      "cell_type": "code",
      "execution_count": 43,
      "metadata": {
        "colab": {
          "base_uri": "https://localhost:8080/"
        },
        "id": "JnQqRNEuncox",
        "outputId": "7dbdc02e-f629-4ed9-c651-e395a3a44296"
      },
      "outputs": [
        {
          "data": {
            "text/plain": [
              "(2000, 15, 2)"
            ]
          },
          "execution_count": 43,
          "metadata": {},
          "output_type": "execute_result"
        }
      ],
      "source": [
        "shap_values.shape"
      ]
    },
    {
      "cell_type": "code",
      "execution_count": 44,
      "metadata": {
        "id": "6D5Kzh_QndwY"
      },
      "outputs": [],
      "source": [
        "shap_values=np.delete(shap_values, 1, axis=2)"
      ]
    },
    {
      "cell_type": "code",
      "execution_count": 45,
      "metadata": {
        "id": "4uP44akZnl27"
      },
      "outputs": [],
      "source": [
        "shap_values=shap_values.reshape(2000,15)"
      ]
    },
    {
      "cell_type": "code",
      "execution_count": 46,
      "metadata": {
        "colab": {
          "base_uri": "https://localhost:8080/"
        },
        "id": "Q40SWiHgCI8y",
        "outputId": "8ff3fd45-39df-4d13-b9e9-50e71406e1b8"
      },
      "outputs": [
        {
          "name": "stdout",
          "output_type": "stream",
          "text": [
            "Mean Absolute SHAP Values:  0.0146524773005623\n"
          ]
        }
      ],
      "source": [
        "mean_abs_shap_values = np.mean(np.abs(shap_values[1]), axis=0)\n",
        "print(\"Mean Absolute SHAP Values: \", mean_abs_shap_values)\n"
      ]
    },
    {
      "cell_type": "code",
      "execution_count": 47,
      "metadata": {
        "id": "NdnQnNiwDN60"
      },
      "outputs": [],
      "source": [
        "feature_importance = pd.DataFrame({\n",
        "    'feature': columns,\n",
        "    'shap_value': shap_values[1]\n",
        "}).sort_values(by='shap_value', ascending=False)"
      ]
    },
    {
      "cell_type": "code",
      "execution_count": 48,
      "metadata": {
        "colab": {
          "base_uri": "https://localhost:8080/",
          "height": 564
        },
        "id": "tBMwbLjBDiA6",
        "outputId": "42dc9086-7deb-42a3-bac9-a87c787df622"
      },
      "outputs": [
        {
          "data": {
            "image/png": "[encoded data removed]",
            "text/plain": [
              "<Figure size 1000x600 with 1 Axes>"
            ]
          },
          "metadata": {},
          "output_type": "display_data"
        }
      ],
      "source": [
        "plt.figure(figsize=(10, 6))\n",
        "sbs.barplot(x='shap_value', y='feature', data=feature_importance)\n",
        "plt.title('Feature Importance based on SHAP Values')\n",
        "plt.xlabel('SHAP Value')\n",
        "plt.ylabel('Feature')\n",
        "plt.show()"
      ]
    },
    {
      "cell_type": "code",
      "execution_count": 49,
      "metadata": {
        "colab": {
          "base_uri": "https://localhost:8080/",
          "height": 757
        },
        "id": "xURZOJOAFaSC",
        "outputId": "5f66af19-138f-4806-91fc-96ef0f8870be"
      },
      "outputs": [
        {
          "data": {
            "image/png": "[encoded data removed]",
            "text/plain": [
              "<Figure size 800x750 with 2 Axes>"
            ]
          },
          "metadata": {},
          "output_type": "display_data"
        }
      ],
      "source": [
        "shap.summary_plot(shap_values, X_test_transformed_df, feature_names=columns)"
      ]
    },
    {
      "cell_type": "code",
      "execution_count": null,
      "metadata": {
        "id": "nC289ytinf3d"
      },
      "outputs": [],
      "source": []
    }
  ],
  "metadata": {
    "colab": {
      "provenance": []
    },
    "kernelspec": {
      "display_name": "Python 3",
      "language": "python",
      "name": "python3"
    },
    "language_info": {
      "codemirror_mode": {
        "name": "ipython",
        "version": 3
      },
      "file_extension": ".py",
      "mimetype": "text/x-python",
      "name": "python",
      "nbconvert_exporter": "python",
      "pygments_lexer": "ipython3",
      "version": "3.11.9"
    }
  },
  "nbformat": 4,
  "nbformat_minor": 0
}
