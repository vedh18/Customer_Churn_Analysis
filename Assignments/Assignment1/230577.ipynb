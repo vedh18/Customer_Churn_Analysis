{
 "cells": [
  {
   "cell_type": "code",
   "execution_count": 2,
   "metadata": {},
   "outputs": [
    {
     "data": {
      "text/html": [
       "<div>\n",
       "<style scoped>\n",
       "    .dataframe tbody tr th:only-of-type {\n",
       "        vertical-align: middle;\n",
       "    }\n",
       "\n",
       "    .dataframe tbody tr th {\n",
       "        vertical-align: top;\n",
       "    }\n",
       "\n",
       "    .dataframe thead th {\n",
       "        text-align: right;\n",
       "    }\n",
       "</style>\n",
       "<table border=\"1\" class=\"dataframe\">\n",
       "  <thead>\n",
       "    <tr style=\"text-align: right;\">\n",
       "      <th></th>\n",
       "      <th>location</th>\n",
       "      <th>continent</th>\n",
       "      <th>population</th>\n",
       "      <th>life_expectancy</th>\n",
       "      <th>hospital_beds_per_thousand</th>\n",
       "      <th>gdp_per_capita</th>\n",
       "    </tr>\n",
       "  </thead>\n",
       "  <tbody>\n",
       "    <tr>\n",
       "      <th>0</th>\n",
       "      <td>Afghanistan</td>\n",
       "      <td>Asia</td>\n",
       "      <td>38928341.0</td>\n",
       "      <td>64.83</td>\n",
       "      <td>0.50</td>\n",
       "      <td>1803.987</td>\n",
       "    </tr>\n",
       "    <tr>\n",
       "      <th>1</th>\n",
       "      <td>Albania</td>\n",
       "      <td>Europe</td>\n",
       "      <td>2877800.0</td>\n",
       "      <td>78.57</td>\n",
       "      <td>2.89</td>\n",
       "      <td>11803.431</td>\n",
       "    </tr>\n",
       "    <tr>\n",
       "      <th>2</th>\n",
       "      <td>Algeria</td>\n",
       "      <td>Africa</td>\n",
       "      <td>43851043.0</td>\n",
       "      <td>76.88</td>\n",
       "      <td>1.90</td>\n",
       "      <td>13913.839</td>\n",
       "    </tr>\n",
       "    <tr>\n",
       "      <th>3</th>\n",
       "      <td>Andorra</td>\n",
       "      <td>Europe</td>\n",
       "      <td>77265.0</td>\n",
       "      <td>83.73</td>\n",
       "      <td>NaN</td>\n",
       "      <td>NaN</td>\n",
       "    </tr>\n",
       "    <tr>\n",
       "      <th>4</th>\n",
       "      <td>Angola</td>\n",
       "      <td>Africa</td>\n",
       "      <td>32866268.0</td>\n",
       "      <td>61.15</td>\n",
       "      <td>NaN</td>\n",
       "      <td>5819.495</td>\n",
       "    </tr>\n",
       "    <tr>\n",
       "      <th>...</th>\n",
       "      <td>...</td>\n",
       "      <td>...</td>\n",
       "      <td>...</td>\n",
       "      <td>...</td>\n",
       "      <td>...</td>\n",
       "      <td>...</td>\n",
       "    </tr>\n",
       "    <tr>\n",
       "      <th>205</th>\n",
       "      <td>Vietnam</td>\n",
       "      <td>Asia</td>\n",
       "      <td>97338583.0</td>\n",
       "      <td>75.40</td>\n",
       "      <td>2.60</td>\n",
       "      <td>6171.884</td>\n",
       "    </tr>\n",
       "    <tr>\n",
       "      <th>206</th>\n",
       "      <td>Western Sahara</td>\n",
       "      <td>Africa</td>\n",
       "      <td>597330.0</td>\n",
       "      <td>70.26</td>\n",
       "      <td>NaN</td>\n",
       "      <td>NaN</td>\n",
       "    </tr>\n",
       "    <tr>\n",
       "      <th>207</th>\n",
       "      <td>Yemen</td>\n",
       "      <td>Asia</td>\n",
       "      <td>29825968.0</td>\n",
       "      <td>66.12</td>\n",
       "      <td>0.70</td>\n",
       "      <td>1479.147</td>\n",
       "    </tr>\n",
       "    <tr>\n",
       "      <th>208</th>\n",
       "      <td>Zambia</td>\n",
       "      <td>Africa</td>\n",
       "      <td>18383956.0</td>\n",
       "      <td>63.89</td>\n",
       "      <td>2.00</td>\n",
       "      <td>3689.251</td>\n",
       "    </tr>\n",
       "    <tr>\n",
       "      <th>209</th>\n",
       "      <td>Zimbabwe</td>\n",
       "      <td>Africa</td>\n",
       "      <td>14862927.0</td>\n",
       "      <td>61.49</td>\n",
       "      <td>1.70</td>\n",
       "      <td>1899.775</td>\n",
       "    </tr>\n",
       "  </tbody>\n",
       "</table>\n",
       "<p>210 rows × 6 columns</p>\n",
       "</div>"
      ],
      "text/plain": [
       "           location continent  population  life_expectancy  \\\n",
       "0       Afghanistan      Asia  38928341.0            64.83   \n",
       "1           Albania    Europe   2877800.0            78.57   \n",
       "2           Algeria    Africa  43851043.0            76.88   \n",
       "3           Andorra    Europe     77265.0            83.73   \n",
       "4            Angola    Africa  32866268.0            61.15   \n",
       "..              ...       ...         ...              ...   \n",
       "205         Vietnam      Asia  97338583.0            75.40   \n",
       "206  Western Sahara    Africa    597330.0            70.26   \n",
       "207           Yemen      Asia  29825968.0            66.12   \n",
       "208          Zambia    Africa  18383956.0            63.89   \n",
       "209        Zimbabwe    Africa  14862927.0            61.49   \n",
       "\n",
       "     hospital_beds_per_thousand  gdp_per_capita  \n",
       "0                          0.50        1803.987  \n",
       "1                          2.89       11803.431  \n",
       "2                          1.90       13913.839  \n",
       "3                           NaN             NaN  \n",
       "4                           NaN        5819.495  \n",
       "..                          ...             ...  \n",
       "205                        2.60        6171.884  \n",
       "206                         NaN             NaN  \n",
       "207                        0.70        1479.147  \n",
       "208                        2.00        3689.251  \n",
       "209                        1.70        1899.775  \n",
       "\n",
       "[210 rows x 6 columns]"
      ]
     },
     "execution_count": 2,
     "metadata": {},
     "output_type": "execute_result"
    }
   ],
   "source": [
    "import pandas as pd\n",
    "\n",
    "file = pd.read_csv(\"countries.csv\")\n",
    "file"
   ]
  },
  {
   "cell_type": "code",
   "execution_count": 9,
   "metadata": {},
   "outputs": [
    {
     "name": "stdout",
     "output_type": "stream",
     "text": [
      "there are 210 countries in the dataset\n"
     ]
    }
   ],
   "source": [
    "total_countries=file.shape[0]\n",
    "print(\"there are \"+str(total_countries)+\" countries in the dataset\")"
   ]
  },
  {
   "cell_type": "code",
   "execution_count": 6,
   "metadata": {},
   "outputs": [
    {
     "name": "stdout",
     "output_type": "stream",
     "text": [
      "['Asia' 'Europe' 'Africa' 'North America' 'South America' 'Oceania']\n"
     ]
    }
   ],
   "source": [
    "unique_continents=file['continent'].unique()\n",
    "print(unique_continents)"
   ]
  },
  {
   "cell_type": "code",
   "execution_count": 11,
   "metadata": {},
   "outputs": [
    {
     "name": "stdout",
     "output_type": "stream",
     "text": [
      "the total population is 7757980095.0\n"
     ]
    }
   ],
   "source": [
    "total_population=file['population'].sum()\n",
    "print(\"the total population is \"+str(total_population))"
   ]
  },
  {
   "cell_type": "code",
   "execution_count": 12,
   "metadata": {},
   "outputs": [
    {
     "name": "stdout",
     "output_type": "stream",
     "text": [
      "          location      continent    population  life_expectancy  \\\n",
      "41           China           Asia  1.439324e+09            76.91   \n",
      "90           India           Asia  1.380004e+09            69.66   \n",
      "199  United States  North America  3.310026e+08            78.86   \n",
      "91       Indonesia           Asia  2.735236e+08            71.72   \n",
      "145       Pakistan           Asia  2.208923e+08            67.27   \n",
      "27          Brazil  South America  2.125594e+08            75.88   \n",
      "141        Nigeria         Africa  2.061396e+08            54.69   \n",
      "15      Bangladesh           Asia  1.646894e+08            72.59   \n",
      "157         Russia         Europe  1.459345e+08            72.58   \n",
      "125         Mexico  North America  1.289328e+08            75.05   \n",
      "\n",
      "     hospital_beds_per_thousand  gdp_per_capita  \n",
      "41                         4.34       15308.712  \n",
      "90                         0.53        6426.674  \n",
      "199                        2.77       54225.446  \n",
      "91                         1.04       11188.744  \n",
      "145                        0.60        5034.708  \n",
      "27                         2.20       14103.452  \n",
      "141                         NaN        5338.454  \n",
      "15                         0.80        3523.984  \n",
      "157                        8.05       24765.954  \n",
      "125                        1.38       17336.469  \n"
     ]
    }
   ],
   "source": [
    "most_populus_df=file.nlargest(10,'population')\n",
    "print(most_populus_df)"
   ]
  },
  {
   "cell_type": "code",
   "execution_count": null,
   "metadata": {},
   "outputs": [],
   "source": []
  },
  {
   "cell_type": "code",
   "execution_count": 13,
   "metadata": {},
   "outputs": [
    {
     "name": "stdout",
     "output_type": "stream",
     "text": [
      "       continent  country count\n",
      "0         Africa             55\n",
      "1           Asia             47\n",
      "2         Europe             51\n",
      "3  North America             36\n",
      "4        Oceania              8\n",
      "5  South America             13\n"
     ]
    }
   ],
   "source": [
    "countries_count_df=file.groupby('continent').size().reset_index(name='country count')\n",
    "print(countries_count_df)"
   ]
  },
  {
   "cell_type": "code",
   "execution_count": 15,
   "metadata": {},
   "outputs": [
    {
     "name": "stdout",
     "output_type": "stream",
     "text": [
      "      continents  total population\n",
      "0         Africa      1.339424e+09\n",
      "1           Asia      4.607388e+09\n",
      "2         Europe      7.485062e+08\n",
      "3  North America      5.912425e+08\n",
      "4        Oceania      4.095832e+07\n",
      "5  South America      4.304611e+08\n"
     ]
    }
   ],
   "source": [
    "continents_population_df=file.groupby('continent')['population'].sum().reset_index()\n",
    "continents_population_df.columns=['continents', 'total population']\n",
    "print(continents_population_df)"
   ]
  },
  {
   "cell_type": "code",
   "execution_count": 29,
   "metadata": {},
   "outputs": [
    {
     "name": "stdout",
     "output_type": "stream",
     "text": [
      "missing data sets 122\n"
     ]
    }
   ],
   "source": [
    "covid_countries=pd.read_csv(\"covid-countries-data.csv\")\n",
    "total_tests_missing=covid_countries['total_tests'].isna().sum()\n",
    "print (\"missing data sets \"+ str(total_tests_missing))"
   ]
  },
  {
   "cell_type": "code",
   "execution_count": 21,
   "metadata": {},
   "outputs": [
    {
     "name": "stdout",
     "output_type": "stream",
     "text": [
      "           location continent  population  life_expectancy  \\\n",
      "0       Afghanistan      Asia  38928341.0            64.83   \n",
      "1           Albania    Europe   2877800.0            78.57   \n",
      "2           Algeria    Africa  43851043.0            76.88   \n",
      "3           Andorra    Europe     77265.0            83.73   \n",
      "4            Angola    Africa  32866268.0            61.15   \n",
      "..              ...       ...         ...              ...   \n",
      "205         Vietnam      Asia  97338583.0            75.40   \n",
      "206  Western Sahara    Africa    597330.0            70.26   \n",
      "207           Yemen      Asia  29825968.0            66.12   \n",
      "208          Zambia    Africa  18383956.0            63.89   \n",
      "209        Zimbabwe    Africa  14862927.0            61.49   \n",
      "\n",
      "     hospital_beds_per_thousand  gdp_per_capita  total_cases  total_deaths  \\\n",
      "0                          0.50        1803.987      38243.0        1409.0   \n",
      "1                          2.89       11803.431       9728.0         296.0   \n",
      "2                          1.90       13913.839      45158.0        1525.0   \n",
      "3                           NaN             NaN       1199.0          53.0   \n",
      "4                           NaN        5819.495       2729.0         109.0   \n",
      "..                          ...             ...          ...           ...   \n",
      "205                        2.60        6171.884       1046.0          35.0   \n",
      "206                         NaN             NaN        766.0           1.0   \n",
      "207                        0.70        1479.147       1976.0         571.0   \n",
      "208                        2.00        3689.251      12415.0         292.0   \n",
      "209                        1.70        1899.775       6638.0         206.0   \n",
      "\n",
      "     total_tests  \n",
      "0            NaN  \n",
      "1            NaN  \n",
      "2            NaN  \n",
      "3            NaN  \n",
      "4            NaN  \n",
      "..           ...  \n",
      "205     261004.0  \n",
      "206          NaN  \n",
      "207          NaN  \n",
      "208          NaN  \n",
      "209      97272.0  \n",
      "\n",
      "[210 rows x 9 columns]\n"
     ]
    }
   ],
   "source": [
    "covid_countries=pd.read_csv(\"covid-countries-data.csv\")\n",
    "combined_df = pd.merge(file,covid_countries , left_on='location', right_on='location')\n",
    "print(combined_df)\n"
   ]
  },
  {
   "cell_type": "code",
   "execution_count": 36,
   "metadata": {},
   "outputs": [
    {
     "name": "stdout",
     "output_type": "stream",
     "text": [
      "           location continent  population  life_expectancy  \\\n",
      "0       Afghanistan      Asia  38928341.0            64.83   \n",
      "1           Albania    Europe   2877800.0            78.57   \n",
      "2           Algeria    Africa  43851043.0            76.88   \n",
      "3           Andorra    Europe     77265.0            83.73   \n",
      "4            Angola    Africa  32866268.0            61.15   \n",
      "..              ...       ...         ...              ...   \n",
      "205         Vietnam      Asia  97338583.0            75.40   \n",
      "206  Western Sahara    Africa    597330.0            70.26   \n",
      "207           Yemen      Asia  29825968.0            66.12   \n",
      "208          Zambia    Africa  18383956.0            63.89   \n",
      "209        Zimbabwe    Africa  14862927.0            61.49   \n",
      "\n",
      "     hospital_beds_per_thousand  gdp_per_capita  total_cases  total_deaths  \\\n",
      "0                          0.50        1803.987      38243.0        1409.0   \n",
      "1                          2.89       11803.431       9728.0         296.0   \n",
      "2                          1.90       13913.839      45158.0        1525.0   \n",
      "3                           NaN             NaN       1199.0          53.0   \n",
      "4                           NaN        5819.495       2729.0         109.0   \n",
      "..                          ...             ...          ...           ...   \n",
      "205                        2.60        6171.884       1046.0          35.0   \n",
      "206                         NaN             NaN        766.0           1.0   \n",
      "207                        0.70        1479.147       1976.0         571.0   \n",
      "208                        2.00        3689.251      12415.0         292.0   \n",
      "209                        1.70        1899.775       6638.0         206.0   \n",
      "\n",
      "     total_tests  tests_per_million  cases_per_million  deaths_per_million  \n",
      "0            NaN                NaN         982.394806           36.194710  \n",
      "1            NaN                NaN        3380.359997          102.856349  \n",
      "2            NaN                NaN        1029.804468           34.776824  \n",
      "3            NaN                NaN       15518.022390          685.950948  \n",
      "4            NaN                NaN          83.033462            3.316470  \n",
      "..           ...                ...                ...                 ...  \n",
      "205     261004.0        2681.403324          10.745996            0.359570  \n",
      "206          NaN                NaN        1282.373228            1.674116  \n",
      "207          NaN                NaN          66.250993           19.144391  \n",
      "208          NaN                NaN         675.317108           15.883415  \n",
      "209      97272.0        6544.605918         446.614587           13.859989  \n",
      "\n",
      "[210 rows x 12 columns]\n"
     ]
    }
   ],
   "source": [
    "file=pd.read_csv(\"countries.csv\")\n",
    "covid_countries=pd.read_csv(\"covid-countries-data.csv\")\n",
    "combined_df = pd.merge(file,covid_countries , left_on='location', right_on='location')\n",
    "combined_df['tests_per_million'] = combined_df['total_tests'] *1e6/ combined_df['population'] \n",
    "combined_df['cases_per_million'] = combined_df['total_cases']*1e6 / combined_df['population'] \n",
    "combined_df['deaths_per_million'] = combined_df['total_deaths']*1e6 / combined_df['population'] \n",
    "print(combined_df)"
   ]
  },
  {
   "cell_type": "code",
   "execution_count": 39,
   "metadata": {},
   "outputs": [
    {
     "name": "stdout",
     "output_type": "stream",
     "text": [
      "                 location      continent   population  life_expectancy  \\\n",
      "197  United Arab Emirates           Asia    9890400.0            77.97   \n",
      "14                Bahrain           Asia    1701583.0            77.29   \n",
      "115            Luxembourg         Europe     625976.0            82.25   \n",
      "122                 Malta         Europe     441539.0            82.53   \n",
      "53                Denmark         Europe    5792203.0            80.90   \n",
      "96                 Israel           Asia    8655541.0            82.97   \n",
      "89                Iceland         Europe     341250.0            82.99   \n",
      "157                Russia         Europe  145934460.0            72.58   \n",
      "199         United States  North America  331002647.0            78.86   \n",
      "10              Australia        Oceania   25499881.0            83.44   \n",
      "\n",
      "     hospital_beds_per_thousand  gdp_per_capita  total_cases  total_deaths  \\\n",
      "197                       1.200       67293.483      71540.0         387.0   \n",
      "14                        2.000       43290.705      52440.0         190.0   \n",
      "115                       4.510       94277.965       7928.0         124.0   \n",
      "122                       4.485       36513.323       1931.0          13.0   \n",
      "53                        2.500       46682.515      17195.0         626.0   \n",
      "96                        2.990       33132.320     122539.0         969.0   \n",
      "89                        2.910       46482.958       2121.0          10.0   \n",
      "157                       8.050       24765.954    1005000.0       17414.0   \n",
      "199                       2.770       54225.446    6114406.0      185744.0   \n",
      "10                        3.840       44648.710      25923.0         663.0   \n",
      "\n",
      "     total_tests  tests_per_million  cases_per_million  deaths_per_million  \n",
      "197    7177430.0      725696.635121        7233.276713           39.128852  \n",
      "14     1118837.0      657527.137965       30818.361490          111.660730  \n",
      "115     385820.0      616349.508607       12665.022301          198.090662  \n",
      "122     188539.0      427004.183096        4373.339614           29.442473  \n",
      "53     2447911.0      422621.755488        2968.645954          108.076323  \n",
      "96     2353984.0      271962.665303       14157.289533          111.951408  \n",
      "89       88829.0      260304.761905        6215.384615           29.304029  \n",
      "157   37176827.0      254750.159763        6886.653091          119.327539  \n",
      "199   83898416.0      253467.507769       18472.377957          561.155633  \n",
      "10     6255797.0      245326.517406        1016.592979           26.000121  \n"
     ]
    }
   ],
   "source": [
    "highest_tests_df=combined_df.nlargest(10,'tests_per_million')\n",
    "print(highest_tests_df)"
   ]
  },
  {
   "cell_type": "code",
   "execution_count": 40,
   "metadata": {},
   "outputs": [
    {
     "name": "stdout",
     "output_type": "stream",
     "text": [
      "          location      continent   population  life_expectancy  \\\n",
      "155          Qatar           Asia    2881060.0            80.23   \n",
      "14         Bahrain           Asia    1701583.0            77.29   \n",
      "147         Panama  North America    4314768.0            78.51   \n",
      "40           Chile  South America   19116209.0            80.18   \n",
      "162     San Marino         Europe      33938.0            84.97   \n",
      "9            Aruba  North America     106766.0            76.29   \n",
      "105         Kuwait           Asia    4270563.0            75.49   \n",
      "150           Peru  South America   32971846.0            76.74   \n",
      "27          Brazil  South America  212559409.0            75.88   \n",
      "199  United States  North America  331002647.0            78.86   \n",
      "\n",
      "     hospital_beds_per_thousand  gdp_per_capita  total_cases  total_deaths  \\\n",
      "155                        1.20      116935.600     119206.0         199.0   \n",
      "14                         2.00       43290.705      52440.0         190.0   \n",
      "147                        2.30       22267.037      94084.0        2030.0   \n",
      "40                         2.11       22767.037     414739.0       11344.0   \n",
      "162                        3.80       56861.470        735.0          42.0   \n",
      "9                           NaN       35973.781       2211.0          12.0   \n",
      "105                        2.00       65530.537      86478.0         535.0   \n",
      "150                        1.60       12236.706     663437.0       29259.0   \n",
      "27                         2.20       14103.452    3997865.0      123780.0   \n",
      "199                        2.77       54225.446    6114406.0      185744.0   \n",
      "\n",
      "     total_tests  tests_per_million  cases_per_million  deaths_per_million  \n",
      "155     634745.0      220316.480740       41375.743650           69.071800  \n",
      "14     1118837.0      657527.137965       30818.361490          111.660730  \n",
      "147     336345.0       77952.047480       21805.112117          470.477208  \n",
      "40     2458762.0      128621.841287       21695.671982          593.423100  \n",
      "162          NaN                NaN       21657.139490         1237.550828  \n",
      "9            NaN                NaN       20708.839893          112.395332  \n",
      "105     621616.0      145558.325682       20249.789079          125.276222  \n",
      "150     584232.0       17719.117092       20121.318048          887.393445  \n",
      "27     4797948.0       22572.268255       18808.224105          582.331314  \n",
      "199   83898416.0      253467.507769       18472.377957          561.155633  \n"
     ]
    }
   ],
   "source": [
    "highest_cases_df=combined_df.nlargest(10,'cases_per_million')\n",
    "print(highest_cases_df)"
   ]
  },
  {
   "cell_type": "code",
   "execution_count": 41,
   "metadata": {},
   "outputs": [
    {
     "name": "stdout",
     "output_type": "stream",
     "text": [
      "           location      continent   population  life_expectancy  \\\n",
      "162      San Marino         Europe      33938.0            84.97   \n",
      "150            Peru  South America   32971846.0            76.74   \n",
      "18          Belgium         Europe   11589616.0            81.63   \n",
      "3           Andorra         Europe      77265.0            83.73   \n",
      "177           Spain         Europe   46754783.0            83.56   \n",
      "198  United Kingdom         Europe   67886004.0            81.32   \n",
      "40            Chile  South America   19116209.0            80.18   \n",
      "97            Italy         Europe   60461828.0            83.51   \n",
      "27           Brazil  South America  212559409.0            75.88   \n",
      "182          Sweden         Europe   10099270.0            82.80   \n",
      "\n",
      "     hospital_beds_per_thousand  gdp_per_capita  total_cases  total_deaths  \\\n",
      "162                        3.80       56861.470        735.0          42.0   \n",
      "150                        1.60       12236.706     663437.0       29259.0   \n",
      "18                         5.64       42658.576      85817.0        9898.0   \n",
      "3                           NaN             NaN       1199.0          53.0   \n",
      "177                        2.97       34272.360     479554.0       29194.0   \n",
      "198                        2.54       39753.244     338676.0       41514.0   \n",
      "40                         2.11       22767.037     414739.0       11344.0   \n",
      "97                         3.18       35220.084     271515.0       35497.0   \n",
      "27                         2.20       14103.452    3997865.0      123780.0   \n",
      "182                        2.22       46949.283      84532.0        5820.0   \n",
      "\n",
      "     total_tests  tests_per_million  cases_per_million  deaths_per_million  \n",
      "162          NaN                NaN       21657.139490         1237.550828  \n",
      "150     584232.0       17719.117092       20121.318048          887.393445  \n",
      "18     2281853.0      196887.713967        7404.645676          854.040375  \n",
      "3            NaN                NaN       15518.022390          685.950948  \n",
      "177    6416533.0      137238.001939       10256.790198          624.406705  \n",
      "198   13447568.0      198090.434075        4988.892850          611.525168  \n",
      "40     2458762.0      128621.841287       21695.671982          593.423100  \n",
      "97     5214766.0       86248.897403        4490.684602          587.097697  \n",
      "27     4797948.0       22572.268255       18808.224105          582.331314  \n",
      "182          NaN                NaN        8370.109919          576.279276  \n"
     ]
    }
   ],
   "source": [
    "highest_deaths_df=combined_df.nlargest(10,'deaths_per_million')\n",
    "print(highest_deaths_df)"
   ]
  }
 ],
 "metadata": {
  "kernelspec": {
   "display_name": "Python 3",
   "language": "python",
   "name": "python3"
  },
  "language_info": {
   "codemirror_mode": {
    "name": "ipython",
    "version": 3
   },
   "file_extension": ".py",
   "mimetype": "text/x-python",
   "name": "python",
   "nbconvert_exporter": "python",
   "pygments_lexer": "ipython3",
   "version": "3.12.2"
  }
 },
 "nbformat": 4,
 "nbformat_minor": 2
}
